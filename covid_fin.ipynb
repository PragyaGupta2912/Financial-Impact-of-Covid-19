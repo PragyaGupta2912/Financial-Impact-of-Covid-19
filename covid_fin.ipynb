{
  "nbformat": 4,
  "nbformat_minor": 0,
  "metadata": {
    "colab": {
      "provenance": [],
      "include_colab_link": true
    },
    "kernelspec": {
      "name": "python3",
      "display_name": "Python 3"
    },
    "language_info": {
      "name": "python"
    },
    "accelerator": "GPU"
  },
  "cells": [
    {
      "cell_type": "markdown",
      "metadata": {
        "id": "view-in-github",
        "colab_type": "text"
      },
      "source": [
        "<a href=\"https://colab.research.google.com/github/PragyaGupta2912/Financial-Impact-of-Covid-19/blob/main/covid_fin.ipynb\" target=\"_parent\"><img src=\"https://colab.research.google.com/assets/colab-badge.svg\" alt=\"Open In Colab\"/></a>"
      ]
    },
    {
      "cell_type": "code",
      "metadata": {
        "id": "wBsz77b5iRIv"
      },
      "source": [
        "\n",
        "import pandas as pd"
      ],
      "execution_count": null,
      "outputs": []
    },
    {
      "cell_type": "code",
      "metadata": {
        "id": "8_k0-AHsjPPE",
        "colab": {
          "base_uri": "https://localhost:8080/"
        },
        "outputId": "b70a1cae-1e38-41f4-ce6f-98a44d6bf349"
      },
      "source": [
        "!pip install yfinance"
      ],
      "execution_count": null,
      "outputs": [
        {
          "output_type": "stream",
          "name": "stdout",
          "text": [
            "Requirement already satisfied: yfinance in /usr/local/lib/python3.7/dist-packages (0.1.67)\n",
            "Requirement already satisfied: requests>=2.20 in /usr/local/lib/python3.7/dist-packages (from yfinance) (2.23.0)\n",
            "Requirement already satisfied: lxml>=4.5.1 in /usr/local/lib/python3.7/dist-packages (from yfinance) (4.6.4)\n",
            "Requirement already satisfied: multitasking>=0.0.7 in /usr/local/lib/python3.7/dist-packages (from yfinance) (0.0.10)\n",
            "Requirement already satisfied: numpy>=1.15 in /usr/local/lib/python3.7/dist-packages (from yfinance) (1.19.5)\n",
            "Requirement already satisfied: pandas>=0.24 in /usr/local/lib/python3.7/dist-packages (from yfinance) (1.1.5)\n",
            "Requirement already satisfied: python-dateutil>=2.7.3 in /usr/local/lib/python3.7/dist-packages (from pandas>=0.24->yfinance) (2.8.2)\n",
            "Requirement already satisfied: pytz>=2017.2 in /usr/local/lib/python3.7/dist-packages (from pandas>=0.24->yfinance) (2018.9)\n",
            "Requirement already satisfied: six>=1.5 in /usr/local/lib/python3.7/dist-packages (from python-dateutil>=2.7.3->pandas>=0.24->yfinance) (1.15.0)\n",
            "Requirement already satisfied: certifi>=2017.4.17 in /usr/local/lib/python3.7/dist-packages (from requests>=2.20->yfinance) (2021.10.8)\n",
            "Requirement already satisfied: idna<3,>=2.5 in /usr/local/lib/python3.7/dist-packages (from requests>=2.20->yfinance) (2.10)\n",
            "Requirement already satisfied: urllib3!=1.25.0,!=1.25.1,<1.26,>=1.21.1 in /usr/local/lib/python3.7/dist-packages (from requests>=2.20->yfinance) (1.24.3)\n",
            "Requirement already satisfied: chardet<4,>=3.0.2 in /usr/local/lib/python3.7/dist-packages (from requests>=2.20->yfinance) (3.0.4)\n"
          ]
        }
      ]
    },
    {
      "cell_type": "code",
      "metadata": {
        "id": "nFc-xHWkjrWt",
        "colab": {
          "base_uri": "https://localhost:8080/"
        },
        "outputId": "3491e805-4154-4174-916d-9a122d3ea2db"
      },
      "source": [
        "!pip install --upgrade pandas-datareader"
      ],
      "execution_count": null,
      "outputs": [
        {
          "output_type": "stream",
          "name": "stdout",
          "text": [
            "Requirement already satisfied: pandas-datareader in /usr/local/lib/python3.7/dist-packages (0.9.0)\n",
            "Collecting pandas-datareader\n",
            "  Downloading pandas_datareader-0.10.0-py3-none-any.whl (109 kB)\n",
            "\u001b[?25l\r\u001b[K     |███                             | 10 kB 19.6 MB/s eta 0:00:01\r\u001b[K     |██████                          | 20 kB 21.2 MB/s eta 0:00:01\r\u001b[K     |█████████                       | 30 kB 22.8 MB/s eta 0:00:01\r\u001b[K     |████████████                    | 40 kB 23.9 MB/s eta 0:00:01\r\u001b[K     |███████████████                 | 51 kB 20.0 MB/s eta 0:00:01\r\u001b[K     |██████████████████              | 61 kB 12.6 MB/s eta 0:00:01\r\u001b[K     |█████████████████████           | 71 kB 12.5 MB/s eta 0:00:01\r\u001b[K     |████████████████████████        | 81 kB 13.7 MB/s eta 0:00:01\r\u001b[K     |███████████████████████████     | 92 kB 13.4 MB/s eta 0:00:01\r\u001b[K     |██████████████████████████████  | 102 kB 14.5 MB/s eta 0:00:01\r\u001b[K     |████████████████████████████████| 109 kB 14.5 MB/s \n",
            "\u001b[?25hRequirement already satisfied: pandas>=0.23 in /usr/local/lib/python3.7/dist-packages (from pandas-datareader) (1.1.5)\n",
            "Requirement already satisfied: requests>=2.19.0 in /usr/local/lib/python3.7/dist-packages (from pandas-datareader) (2.23.0)\n",
            "Requirement already satisfied: lxml in /usr/local/lib/python3.7/dist-packages (from pandas-datareader) (4.6.4)\n",
            "Requirement already satisfied: python-dateutil>=2.7.3 in /usr/local/lib/python3.7/dist-packages (from pandas>=0.23->pandas-datareader) (2.8.2)\n",
            "Requirement already satisfied: numpy>=1.15.4 in /usr/local/lib/python3.7/dist-packages (from pandas>=0.23->pandas-datareader) (1.19.5)\n",
            "Requirement already satisfied: pytz>=2017.2 in /usr/local/lib/python3.7/dist-packages (from pandas>=0.23->pandas-datareader) (2018.9)\n",
            "Requirement already satisfied: six>=1.5 in /usr/local/lib/python3.7/dist-packages (from python-dateutil>=2.7.3->pandas>=0.23->pandas-datareader) (1.15.0)\n",
            "Requirement already satisfied: chardet<4,>=3.0.2 in /usr/local/lib/python3.7/dist-packages (from requests>=2.19.0->pandas-datareader) (3.0.4)\n",
            "Requirement already satisfied: idna<3,>=2.5 in /usr/local/lib/python3.7/dist-packages (from requests>=2.19.0->pandas-datareader) (2.10)\n",
            "Requirement already satisfied: urllib3!=1.25.0,!=1.25.1,<1.26,>=1.21.1 in /usr/local/lib/python3.7/dist-packages (from requests>=2.19.0->pandas-datareader) (1.24.3)\n",
            "Requirement already satisfied: certifi>=2017.4.17 in /usr/local/lib/python3.7/dist-packages (from requests>=2.19.0->pandas-datareader) (2021.10.8)\n",
            "Installing collected packages: pandas-datareader\n",
            "  Attempting uninstall: pandas-datareader\n",
            "    Found existing installation: pandas-datareader 0.9.0\n",
            "    Uninstalling pandas-datareader-0.9.0:\n",
            "      Successfully uninstalled pandas-datareader-0.9.0\n",
            "Successfully installed pandas-datareader-0.10.0\n"
          ]
        }
      ]
    },
    {
      "cell_type": "code",
      "metadata": {
        "id": "qhKah1UMj2y7"
      },
      "source": [
        "from datetime import *\n",
        "import pandas_datareader.data as data\n",
        "\n",
        "import datetime as datetime\n",
        "import math\n",
        "import pandas as pd\n",
        "import numpy as np\n",
        "import pandas_datareader.data as data\n",
        "from pandas.plotting import scatter_matrix\n",
        "from pandas import Series, DataFrame\n",
        "import copy\n",
        "\n",
        "from sklearn.linear_model import Ridge\n",
        "from sklearn.preprocessing import PolynomialFeatures\n",
        "from sklearn.pipeline import make_pipeline\n",
        "\n",
        "from sklearn import preprocessing\n",
        "from sklearn import metrics\n",
        "from sklearn.metrics import roc_auc_score\n",
        "from sklearn.metrics import accuracy_score\n",
        "from sklearn.linear_model import LinearRegression\n",
        "from sklearn.model_selection import train_test_split\n",
        "from sklearn.model_selection import cross_val_score, GridSearchCV\n",
        "from sklearn.neighbors import KNeighborsRegressor\n",
        "\n",
        "%matplotlib inline\n",
        "import matplotlib.pyplot as plt\n",
        "from matplotlib import style\n",
        "import matplotlib as mpl\n"
      ],
      "execution_count": null,
      "outputs": []
    },
    {
      "cell_type": "code",
      "metadata": {
        "id": "KO2C68T_mVUg",
        "colab": {
          "base_uri": "https://localhost:8080/",
          "height": 324
        },
        "outputId": "b15d41b5-a795-4cd9-bbb6-84034d242cce"
      },
      "source": [
        "# setting the timeframe for our data\n",
        "past = datetime.datetime(2020, 1, 1)\n",
        "present = datetime.datetime(2021, 1, 1)\n",
        "\n",
        "# Yahoo API google finance data\n",
        "google2020 = data.DataReader(\"GOOG\", 'yahoo', start=past, end=present)\n",
        "google2020.tail()"
      ],
      "execution_count": null,
      "outputs": [
        {
          "output_type": "execute_result",
          "data": {
            "text/html": [
              "<div>\n",
              "<style scoped>\n",
              "    .dataframe tbody tr th:only-of-type {\n",
              "        vertical-align: middle;\n",
              "    }\n",
              "\n",
              "    .dataframe tbody tr th {\n",
              "        vertical-align: top;\n",
              "    }\n",
              "\n",
              "    .dataframe thead th {\n",
              "        text-align: right;\n",
              "    }\n",
              "</style>\n",
              "<table border=\"1\" class=\"dataframe\">\n",
              "  <thead>\n",
              "    <tr style=\"text-align: right;\">\n",
              "      <th></th>\n",
              "      <th>High</th>\n",
              "      <th>Low</th>\n",
              "      <th>Open</th>\n",
              "      <th>Close</th>\n",
              "      <th>Volume</th>\n",
              "      <th>Adj Close</th>\n",
              "    </tr>\n",
              "    <tr>\n",
              "      <th>Date</th>\n",
              "      <th></th>\n",
              "      <th></th>\n",
              "      <th></th>\n",
              "      <th></th>\n",
              "      <th></th>\n",
              "      <th></th>\n",
              "    </tr>\n",
              "  </thead>\n",
              "  <tbody>\n",
              "    <tr>\n",
              "      <th>2020-12-24</th>\n",
              "      <td>1746.000000</td>\n",
              "      <td>1729.109985</td>\n",
              "      <td>1735.000000</td>\n",
              "      <td>1738.849976</td>\n",
              "      <td>346800</td>\n",
              "      <td>1738.849976</td>\n",
              "    </tr>\n",
              "    <tr>\n",
              "      <th>2020-12-28</th>\n",
              "      <td>1790.728027</td>\n",
              "      <td>1746.334961</td>\n",
              "      <td>1751.635010</td>\n",
              "      <td>1776.089966</td>\n",
              "      <td>1393000</td>\n",
              "      <td>1776.089966</td>\n",
              "    </tr>\n",
              "    <tr>\n",
              "      <th>2020-12-29</th>\n",
              "      <td>1792.439941</td>\n",
              "      <td>1756.089966</td>\n",
              "      <td>1787.790039</td>\n",
              "      <td>1758.719971</td>\n",
              "      <td>1299400</td>\n",
              "      <td>1758.719971</td>\n",
              "    </tr>\n",
              "    <tr>\n",
              "      <th>2020-12-30</th>\n",
              "      <td>1765.094971</td>\n",
              "      <td>1725.599976</td>\n",
              "      <td>1762.010010</td>\n",
              "      <td>1739.520020</td>\n",
              "      <td>1306100</td>\n",
              "      <td>1739.520020</td>\n",
              "    </tr>\n",
              "    <tr>\n",
              "      <th>2020-12-31</th>\n",
              "      <td>1758.930054</td>\n",
              "      <td>1735.420044</td>\n",
              "      <td>1735.420044</td>\n",
              "      <td>1751.880005</td>\n",
              "      <td>1011900</td>\n",
              "      <td>1751.880005</td>\n",
              "    </tr>\n",
              "  </tbody>\n",
              "</table>\n",
              "</div>"
            ],
            "text/plain": [
              "                   High          Low  ...   Volume    Adj Close\n",
              "Date                                  ...                      \n",
              "2020-12-24  1746.000000  1729.109985  ...   346800  1738.849976\n",
              "2020-12-28  1790.728027  1746.334961  ...  1393000  1776.089966\n",
              "2020-12-29  1792.439941  1756.089966  ...  1299400  1758.719971\n",
              "2020-12-30  1765.094971  1725.599976  ...  1306100  1739.520020\n",
              "2020-12-31  1758.930054  1735.420044  ...  1011900  1751.880005\n",
              "\n",
              "[5 rows x 6 columns]"
            ]
          },
          "metadata": {},
          "execution_count": 6
        }
      ]
    },
    {
      "cell_type": "code",
      "metadata": {
        "id": "ba4ft72MmaXH"
      },
      "source": [
        "# moving average mean of closing data for past 6 months\n",
        "googleClose2020 = google2020['Adj Close']\n",
        "#avgMean = googleClose.rolling(window=180).mean()"
      ],
      "execution_count": null,
      "outputs": []
    },
    {
      "cell_type": "code",
      "metadata": {
        "colab": {
          "base_uri": "https://localhost:8080/",
          "height": 445
        },
        "id": "wbH_4mbYmy86",
        "outputId": "33231f9b-cb26-4118-faa3-97f7ff27f6b7"
      },
      "source": [
        "# matplotlib plot of Google data\n",
        "mpl.rc('figure', figsize=(8, 7))\n",
        "mpl.__version__\n",
        "\n",
        "\n",
        "style.use('ggplot')\n",
        "googleClose2020.plot(label='GOOG')\n",
        "#avgMean.plot(label='avgMean')\n",
        "plt.legend()"
      ],
      "execution_count": null,
      "outputs": [
        {
          "output_type": "execute_result",
          "data": {
            "text/plain": [
              "<matplotlib.legend.Legend at 0x7fd70c26eed0>"
            ]
          },
          "metadata": {},
          "execution_count": 8
        },
        {
          "output_type": "display_data",
          "data": {
            "image/png": "[encoded data removed]",
            "text/plain": [
              "<Figure size 576x504 with 1 Axes>"
            ]
          },
          "metadata": {}
        }
      ]
    },
    {
      "cell_type": "code",
      "metadata": {
        "colab": {
          "base_uri": "https://localhost:8080/",
          "height": 324
        },
        "id": "YiOblIdVTUQj",
        "outputId": "dc53e231-968d-497b-8033-72a951cb98d3"
      },
      "source": [
        "past = datetime.datetime(2015, 1, 1)\n",
        "present = datetime.datetime(2020, 4, 1)\n",
        "\n",
        "# Yahoo API google finance data\n",
        "google = data.DataReader(\"GOOG\", 'yahoo', start=past, end=present)\n",
        "google.tail()"
      ],
      "execution_count": null,
      "outputs": [
        {
          "output_type": "execute_result",
          "data": {
            "text/html": [
              "<div>\n",
              "<style scoped>\n",
              "    .dataframe tbody tr th:only-of-type {\n",
              "        vertical-align: middle;\n",
              "    }\n",
              "\n",
              "    .dataframe tbody tr th {\n",
              "        vertical-align: top;\n",
              "    }\n",
              "\n",
              "    .dataframe thead th {\n",
              "        text-align: right;\n",
              "    }\n",
              "</style>\n",
              "<table border=\"1\" class=\"dataframe\">\n",
              "  <thead>\n",
              "    <tr style=\"text-align: right;\">\n",
              "      <th></th>\n",
              "      <th>High</th>\n",
              "      <th>Low</th>\n",
              "      <th>Open</th>\n",
              "      <th>Close</th>\n",
              "      <th>Volume</th>\n",
              "      <th>Adj Close</th>\n",
              "    </tr>\n",
              "    <tr>\n",
              "      <th>Date</th>\n",
              "      <th></th>\n",
              "      <th></th>\n",
              "      <th></th>\n",
              "      <th></th>\n",
              "      <th></th>\n",
              "      <th></th>\n",
              "    </tr>\n",
              "  </thead>\n",
              "  <tbody>\n",
              "    <tr>\n",
              "      <th>2020-03-26</th>\n",
              "      <td>1169.969971</td>\n",
              "      <td>1093.530029</td>\n",
              "      <td>1111.800049</td>\n",
              "      <td>1161.750000</td>\n",
              "      <td>3571700.0</td>\n",
              "      <td>1161.750000</td>\n",
              "    </tr>\n",
              "    <tr>\n",
              "      <th>2020-03-27</th>\n",
              "      <td>1150.670044</td>\n",
              "      <td>1105.910034</td>\n",
              "      <td>1125.670044</td>\n",
              "      <td>1110.709961</td>\n",
              "      <td>3208500.0</td>\n",
              "      <td>1110.709961</td>\n",
              "    </tr>\n",
              "    <tr>\n",
              "      <th>2020-03-30</th>\n",
              "      <td>1151.630005</td>\n",
              "      <td>1096.479980</td>\n",
              "      <td>1125.040039</td>\n",
              "      <td>1146.819946</td>\n",
              "      <td>2574100.0</td>\n",
              "      <td>1146.819946</td>\n",
              "    </tr>\n",
              "    <tr>\n",
              "      <th>2020-03-31</th>\n",
              "      <td>1175.310059</td>\n",
              "      <td>1138.140015</td>\n",
              "      <td>1147.300049</td>\n",
              "      <td>1162.810059</td>\n",
              "      <td>2486400.0</td>\n",
              "      <td>1162.810059</td>\n",
              "    </tr>\n",
              "    <tr>\n",
              "      <th>2020-04-01</th>\n",
              "      <td>1129.689941</td>\n",
              "      <td>1097.449951</td>\n",
              "      <td>1122.000000</td>\n",
              "      <td>1105.619995</td>\n",
              "      <td>2344200.0</td>\n",
              "      <td>1105.619995</td>\n",
              "    </tr>\n",
              "  </tbody>\n",
              "</table>\n",
              "</div>"
            ],
            "text/plain": [
              "                   High          Low  ...     Volume    Adj Close\n",
              "Date                                  ...                        \n",
              "2020-03-26  1169.969971  1093.530029  ...  3571700.0  1161.750000\n",
              "2020-03-27  1150.670044  1105.910034  ...  3208500.0  1110.709961\n",
              "2020-03-30  1151.630005  1096.479980  ...  2574100.0  1146.819946\n",
              "2020-03-31  1175.310059  1138.140015  ...  2486400.0  1162.810059\n",
              "2020-04-01  1129.689941  1097.449951  ...  2344200.0  1105.619995\n",
              "\n",
              "[5 rows x 6 columns]"
            ]
          },
          "metadata": {},
          "execution_count": 9
        }
      ]
    },
    {
      "cell_type": "code",
      "metadata": {
        "id": "r59Ia4kEPE14",
        "colab": {
          "base_uri": "https://localhost:8080/",
          "height": 437
        },
        "outputId": "4f2e585e-121d-4ad4-c550-beb4e9d90421"
      },
      "source": [
        "googleClose = google['Adj Close']\n",
        "\n",
        "mpl.rc('figure', figsize=(8, 7))\n",
        "mpl.__version__\n",
        "\n",
        "\n",
        "style.use('ggplot')\n",
        "googleClose.plot(label='GOOG')\n",
        "#avgMean.plot(label='avgMean')\n",
        "plt.legend()"
      ],
      "execution_count": null,
      "outputs": [
        {
          "output_type": "execute_result",
          "data": {
            "text/plain": [
              "<matplotlib.legend.Legend at 0x7fd70c379dd0>"
            ]
          },
          "metadata": {},
          "execution_count": 10
        },
        {
          "output_type": "display_data",
          "data": {
            "image/png": "[encoded data removed]",
            "text/plain": [
              "<Figure size 576x504 with 1 Axes>"
            ]
          },
          "metadata": {}
        }
      ]
    },
    {
      "cell_type": "code",
      "metadata": {
        "id": "EtgKln9rnD2m",
        "colab": {
          "base_uri": "https://localhost:8080/",
          "height": 437
        },
        "outputId": "99619b17-f706-4014-9f11-452c1d0bc466"
      },
      "source": [
        "# returns\n",
        "returns = googleClose / googleClose.shift(1) - 1\n",
        "returns.plot(label='return')"
      ],
      "execution_count": null,
      "outputs": [
        {
          "output_type": "execute_result",
          "data": {
            "text/plain": [
              "<matplotlib.axes._subplots.AxesSubplot at 0x7fd70c38fdd0>"
            ]
          },
          "metadata": {},
          "execution_count": 11
        },
        {
          "output_type": "display_data",
          "data": {
            "image/png": "[encoded data removed]",
            "text/plain": [
              "<Figure size 576x504 with 1 Axes>"
            ]
          },
          "metadata": {}
        }
      ]
    },
    {
      "cell_type": "code",
      "metadata": {
        "colab": {
          "base_uri": "https://localhost:8080/",
          "height": 289
        },
        "id": "g9TNhd1An6zg",
        "outputId": "b26734e9-6a0d-4d4b-83bd-4b394f2182c3"
      },
      "source": [
        "# Yahoo finance API data \n",
        "past = datetime.datetime(2015, 1, 1)\n",
        "present = datetime.datetime(2020, 4, 1)\n"
      ],
      "execution_count": null,
      "outputs": [
        {
          "output_type": "execute_result",
          "data": {
            "text/html": [
              "<div>\n",
              "<style scoped>\n",
              "    .dataframe tbody tr th:only-of-type {\n",
              "        vertical-align: middle;\n",
              "    }\n",
              "\n",
              "    .dataframe tbody tr th {\n",
              "        vertical-align: top;\n",
              "    }\n",
              "\n",
              "    .dataframe thead tr th {\n",
              "        text-align: left;\n",
              "    }\n",
              "\n",
              "    .dataframe thead tr:last-of-type th {\n",
              "        text-align: right;\n",
              "    }\n",
              "</style>\n",
              "<table border=\"1\" class=\"dataframe\">\n",
              "  <thead>\n",
              "    <tr>\n",
              "      <th>Attributes</th>\n",
              "      <th colspan=\"5\" halign=\"left\">Adj Close</th>\n",
              "      <th colspan=\"5\" halign=\"left\">Close</th>\n",
              "      <th colspan=\"5\" halign=\"left\">High</th>\n",
              "      <th colspan=\"5\" halign=\"left\">Low</th>\n",
              "      <th colspan=\"5\" halign=\"left\">Open</th>\n",
              "      <th colspan=\"5\" halign=\"left\">Volume</th>\n",
              "    </tr>\n",
              "    <tr>\n",
              "      <th>Symbols</th>\n",
              "      <th>AAPL</th>\n",
              "      <th>GE</th>\n",
              "      <th>GOOG</th>\n",
              "      <th>IBM</th>\n",
              "      <th>MSFT</th>\n",
              "      <th>AAPL</th>\n",
              "      <th>GE</th>\n",
              "      <th>GOOG</th>\n",
              "      <th>IBM</th>\n",
              "      <th>MSFT</th>\n",
              "      <th>AAPL</th>\n",
              "      <th>GE</th>\n",
              "      <th>GOOG</th>\n",
              "      <th>IBM</th>\n",
              "      <th>MSFT</th>\n",
              "      <th>AAPL</th>\n",
              "      <th>GE</th>\n",
              "      <th>GOOG</th>\n",
              "      <th>IBM</th>\n",
              "      <th>MSFT</th>\n",
              "      <th>AAPL</th>\n",
              "      <th>GE</th>\n",
              "      <th>GOOG</th>\n",
              "      <th>IBM</th>\n",
              "      <th>MSFT</th>\n",
              "      <th>AAPL</th>\n",
              "      <th>GE</th>\n",
              "      <th>GOOG</th>\n",
              "      <th>IBM</th>\n",
              "      <th>MSFT</th>\n",
              "    </tr>\n",
              "    <tr>\n",
              "      <th>Date</th>\n",
              "      <th></th>\n",
              "      <th></th>\n",
              "      <th></th>\n",
              "      <th></th>\n",
              "      <th></th>\n",
              "      <th></th>\n",
              "      <th></th>\n",
              "      <th></th>\n",
              "      <th></th>\n",
              "      <th></th>\n",
              "      <th></th>\n",
              "      <th></th>\n",
              "      <th></th>\n",
              "      <th></th>\n",
              "      <th></th>\n",
              "      <th></th>\n",
              "      <th></th>\n",
              "      <th></th>\n",
              "      <th></th>\n",
              "      <th></th>\n",
              "      <th></th>\n",
              "      <th></th>\n",
              "      <th></th>\n",
              "      <th></th>\n",
              "      <th></th>\n",
              "      <th></th>\n",
              "      <th></th>\n",
              "      <th></th>\n",
              "      <th></th>\n",
              "      <th></th>\n",
              "    </tr>\n",
              "  </thead>\n",
              "  <tbody>\n",
              "    <tr>\n",
              "      <th>2020-03-26</th>\n",
              "      <td>63.815430</td>\n",
              "      <td>64.549179</td>\n",
              "      <td>1161.750000</td>\n",
              "      <td>98.654610</td>\n",
              "      <td>153.607895</td>\n",
              "      <td>64.610001</td>\n",
              "      <td>64.959999</td>\n",
              "      <td>1161.750000</td>\n",
              "      <td>107.925430</td>\n",
              "      <td>156.110001</td>\n",
              "      <td>64.669998</td>\n",
              "      <td>66.400002</td>\n",
              "      <td>1169.969971</td>\n",
              "      <td>108.173996</td>\n",
              "      <td>156.660004</td>\n",
              "      <td>61.590000</td>\n",
              "      <td>60.080002</td>\n",
              "      <td>1093.530029</td>\n",
              "      <td>100.927345</td>\n",
              "      <td>148.369995</td>\n",
              "      <td>61.630001</td>\n",
              "      <td>61.040001</td>\n",
              "      <td>1111.800049</td>\n",
              "      <td>102.208412</td>\n",
              "      <td>148.399994</td>\n",
              "      <td>252087200.0</td>\n",
              "      <td>15397613.0</td>\n",
              "      <td>3571700.0</td>\n",
              "      <td>7482561.0</td>\n",
              "      <td>64568100.0</td>\n",
              "    </tr>\n",
              "    <tr>\n",
              "      <th>2020-03-27</th>\n",
              "      <td>61.173321</td>\n",
              "      <td>60.574471</td>\n",
              "      <td>1110.709961</td>\n",
              "      <td>94.407455</td>\n",
              "      <td>147.300644</td>\n",
              "      <td>61.935001</td>\n",
              "      <td>60.959999</td>\n",
              "      <td>1110.709961</td>\n",
              "      <td>103.279160</td>\n",
              "      <td>149.699997</td>\n",
              "      <td>63.967499</td>\n",
              "      <td>62.959999</td>\n",
              "      <td>1150.670044</td>\n",
              "      <td>106.596558</td>\n",
              "      <td>154.889999</td>\n",
              "      <td>61.762501</td>\n",
              "      <td>60.320000</td>\n",
              "      <td>1105.910034</td>\n",
              "      <td>102.915871</td>\n",
              "      <td>149.199997</td>\n",
              "      <td>63.187500</td>\n",
              "      <td>61.439999</td>\n",
              "      <td>1125.670044</td>\n",
              "      <td>103.804970</td>\n",
              "      <td>151.750000</td>\n",
              "      <td>204216800.0</td>\n",
              "      <td>11662375.0</td>\n",
              "      <td>3208500.0</td>\n",
              "      <td>6718458.0</td>\n",
              "      <td>57042300.0</td>\n",
              "    </tr>\n",
              "    <tr>\n",
              "      <th>2020-03-30</th>\n",
              "      <td>62.919079</td>\n",
              "      <td>62.720810</td>\n",
              "      <td>1146.819946</td>\n",
              "      <td>98.689575</td>\n",
              "      <td>157.661865</td>\n",
              "      <td>63.702499</td>\n",
              "      <td>63.119999</td>\n",
              "      <td>1146.819946</td>\n",
              "      <td>107.963669</td>\n",
              "      <td>160.229996</td>\n",
              "      <td>63.880001</td>\n",
              "      <td>63.520000</td>\n",
              "      <td>1151.630005</td>\n",
              "      <td>108.470360</td>\n",
              "      <td>160.600006</td>\n",
              "      <td>62.349998</td>\n",
              "      <td>58.799999</td>\n",
              "      <td>1096.479980</td>\n",
              "      <td>103.068832</td>\n",
              "      <td>150.009995</td>\n",
              "      <td>62.685001</td>\n",
              "      <td>60.320000</td>\n",
              "      <td>1125.040039</td>\n",
              "      <td>103.336517</td>\n",
              "      <td>152.440002</td>\n",
              "      <td>167976400.0</td>\n",
              "      <td>10856275.0</td>\n",
              "      <td>2574100.0</td>\n",
              "      <td>5820467.0</td>\n",
              "      <td>63420300.0</td>\n",
              "    </tr>\n",
              "    <tr>\n",
              "      <th>2020-03-31</th>\n",
              "      <td>62.790680</td>\n",
              "      <td>63.118279</td>\n",
              "      <td>1162.810059</td>\n",
              "      <td>96.941780</td>\n",
              "      <td>155.182251</td>\n",
              "      <td>63.572498</td>\n",
              "      <td>63.520000</td>\n",
              "      <td>1162.810059</td>\n",
              "      <td>106.051628</td>\n",
              "      <td>157.710007</td>\n",
              "      <td>65.622498</td>\n",
              "      <td>65.440002</td>\n",
              "      <td>1175.310059</td>\n",
              "      <td>108.804970</td>\n",
              "      <td>164.779999</td>\n",
              "      <td>63.000000</td>\n",
              "      <td>62.560001</td>\n",
              "      <td>1138.140015</td>\n",
              "      <td>105.325050</td>\n",
              "      <td>156.559998</td>\n",
              "      <td>63.900002</td>\n",
              "      <td>62.959999</td>\n",
              "      <td>1147.300049</td>\n",
              "      <td>107.074570</td>\n",
              "      <td>159.399994</td>\n",
              "      <td>197002000.0</td>\n",
              "      <td>15143738.0</td>\n",
              "      <td>2486400.0</td>\n",
              "      <td>6635092.0</td>\n",
              "      <td>77927200.0</td>\n",
              "    </tr>\n",
              "    <tr>\n",
              "      <th>2020-04-01</th>\n",
              "      <td>59.486820</td>\n",
              "      <td>55.963814</td>\n",
              "      <td>1105.619995</td>\n",
              "      <td>91.881889</td>\n",
              "      <td>149.672028</td>\n",
              "      <td>60.227501</td>\n",
              "      <td>56.320000</td>\n",
              "      <td>1105.619995</td>\n",
              "      <td>100.516251</td>\n",
              "      <td>152.110001</td>\n",
              "      <td>62.180000</td>\n",
              "      <td>60.400002</td>\n",
              "      <td>1129.689941</td>\n",
              "      <td>105.086044</td>\n",
              "      <td>157.750000</td>\n",
              "      <td>59.782501</td>\n",
              "      <td>56.000000</td>\n",
              "      <td>1097.449951</td>\n",
              "      <td>99.923515</td>\n",
              "      <td>150.820007</td>\n",
              "      <td>61.625000</td>\n",
              "      <td>60.160000</td>\n",
              "      <td>1122.000000</td>\n",
              "      <td>101.682602</td>\n",
              "      <td>153.000000</td>\n",
              "      <td>176218400.0</td>\n",
              "      <td>12444613.0</td>\n",
              "      <td>2344200.0</td>\n",
              "      <td>6394093.0</td>\n",
              "      <td>57969900.0</td>\n",
              "    </tr>\n",
              "  </tbody>\n",
              "</table>\n",
              "</div>"
            ],
            "text/plain": [
              "Attributes  Adj Close                          ...     Volume                       \n",
              "Symbols          AAPL         GE         GOOG  ...       GOOG        IBM        MSFT\n",
              "Date                                           ...                                  \n",
              "2020-03-26  63.815430  64.549179  1161.750000  ...  3571700.0  7482561.0  64568100.0\n",
              "2020-03-27  61.173321  60.574471  1110.709961  ...  3208500.0  6718458.0  57042300.0\n",
              "2020-03-30  62.919079  62.720810  1146.819946  ...  2574100.0  5820467.0  63420300.0\n",
              "2020-03-31  62.790680  63.118279  1162.810059  ...  2486400.0  6635092.0  77927200.0\n",
              "2020-04-01  59.486820  55.963814  1105.619995  ...  2344200.0  6394093.0  57969900.0\n",
              "\n",
              "[5 rows x 30 columns]"
            ]
          },
          "metadata": {},
          "execution_count": 12
        }
      ]
    },
    {
      "cell_type": "code",
      "metadata": {
        "colab": {
          "base_uri": "https://localhost:8080/",
          "height": 237
        },
        "id": "KBb9tWRl_QXK",
        "outputId": "e83b5c83-57a1-43fa-bbdf-95b5774092db"
      },
      "source": [
        "df = data.DataReader(['AAPL', 'GE', 'GOOG', 'IBM', 'MSFT'],'yahoo',start=past,end=present)['Adj Close']\n",
        "df.tail()"
      ],
      "execution_count": null,
      "outputs": [
        {
          "output_type": "execute_result",
          "data": {
            "text/html": [
              "<div>\n",
              "<style scoped>\n",
              "    .dataframe tbody tr th:only-of-type {\n",
              "        vertical-align: middle;\n",
              "    }\n",
              "\n",
              "    .dataframe tbody tr th {\n",
              "        vertical-align: top;\n",
              "    }\n",
              "\n",
              "    .dataframe thead th {\n",
              "        text-align: right;\n",
              "    }\n",
              "</style>\n",
              "<table border=\"1\" class=\"dataframe\">\n",
              "  <thead>\n",
              "    <tr style=\"text-align: right;\">\n",
              "      <th>Symbols</th>\n",
              "      <th>AAPL</th>\n",
              "      <th>GE</th>\n",
              "      <th>GOOG</th>\n",
              "      <th>IBM</th>\n",
              "      <th>MSFT</th>\n",
              "    </tr>\n",
              "    <tr>\n",
              "      <th>Date</th>\n",
              "      <th></th>\n",
              "      <th></th>\n",
              "      <th></th>\n",
              "      <th></th>\n",
              "      <th></th>\n",
              "    </tr>\n",
              "  </thead>\n",
              "  <tbody>\n",
              "    <tr>\n",
              "      <th>2020-03-26</th>\n",
              "      <td>63.815422</td>\n",
              "      <td>64.549171</td>\n",
              "      <td>1161.750000</td>\n",
              "      <td>98.654617</td>\n",
              "      <td>153.607910</td>\n",
              "    </tr>\n",
              "    <tr>\n",
              "      <th>2020-03-27</th>\n",
              "      <td>61.173321</td>\n",
              "      <td>60.574467</td>\n",
              "      <td>1110.709961</td>\n",
              "      <td>94.407463</td>\n",
              "      <td>147.300629</td>\n",
              "    </tr>\n",
              "    <tr>\n",
              "      <th>2020-03-30</th>\n",
              "      <td>62.919083</td>\n",
              "      <td>62.720810</td>\n",
              "      <td>1146.819946</td>\n",
              "      <td>98.689568</td>\n",
              "      <td>157.661865</td>\n",
              "    </tr>\n",
              "    <tr>\n",
              "      <th>2020-03-31</th>\n",
              "      <td>62.790676</td>\n",
              "      <td>63.118290</td>\n",
              "      <td>1162.810059</td>\n",
              "      <td>96.941780</td>\n",
              "      <td>155.182281</td>\n",
              "    </tr>\n",
              "    <tr>\n",
              "      <th>2020-04-01</th>\n",
              "      <td>59.486820</td>\n",
              "      <td>55.963818</td>\n",
              "      <td>1105.619995</td>\n",
              "      <td>91.881889</td>\n",
              "      <td>149.672012</td>\n",
              "    </tr>\n",
              "  </tbody>\n",
              "</table>\n",
              "</div>"
            ],
            "text/plain": [
              "Symbols          AAPL         GE         GOOG        IBM        MSFT\n",
              "Date                                                                \n",
              "2020-03-26  63.815422  64.549171  1161.750000  98.654617  153.607910\n",
              "2020-03-27  61.173321  60.574467  1110.709961  94.407463  147.300629\n",
              "2020-03-30  62.919083  62.720810  1146.819946  98.689568  157.661865\n",
              "2020-03-31  62.790676  63.118290  1162.810059  96.941780  155.182281\n",
              "2020-04-01  59.486820  55.963818  1105.619995  91.881889  149.672012"
            ]
          },
          "metadata": {},
          "execution_count": 13
        }
      ]
    },
    {
      "cell_type": "code",
      "metadata": {
        "colab": {
          "base_uri": "https://localhost:8080/",
          "height": 237
        },
        "id": "JDWqEpXIoKlX",
        "outputId": "259fcdd8-f956-40ad-dc33-15b024df343b"
      },
      "source": [
        "\n",
        "# correlation plot\n",
        "correlation = df.pct_change()\n",
        "corr = correlation.corr()\n",
        "corr"
      ],
      "execution_count": null,
      "outputs": [
        {
          "output_type": "execute_result",
          "data": {
            "text/html": [
              "<div>\n",
              "<style scoped>\n",
              "    .dataframe tbody tr th:only-of-type {\n",
              "        vertical-align: middle;\n",
              "    }\n",
              "\n",
              "    .dataframe tbody tr th {\n",
              "        vertical-align: top;\n",
              "    }\n",
              "\n",
              "    .dataframe thead th {\n",
              "        text-align: right;\n",
              "    }\n",
              "</style>\n",
              "<table border=\"1\" class=\"dataframe\">\n",
              "  <thead>\n",
              "    <tr style=\"text-align: right;\">\n",
              "      <th>Symbols</th>\n",
              "      <th>AAPL</th>\n",
              "      <th>GE</th>\n",
              "      <th>GOOG</th>\n",
              "      <th>IBM</th>\n",
              "      <th>MSFT</th>\n",
              "    </tr>\n",
              "    <tr>\n",
              "      <th>Symbols</th>\n",
              "      <th></th>\n",
              "      <th></th>\n",
              "      <th></th>\n",
              "      <th></th>\n",
              "      <th></th>\n",
              "    </tr>\n",
              "  </thead>\n",
              "  <tbody>\n",
              "    <tr>\n",
              "      <th>AAPL</th>\n",
              "      <td>1.000000</td>\n",
              "      <td>0.426416</td>\n",
              "      <td>0.612287</td>\n",
              "      <td>0.520649</td>\n",
              "      <td>0.675125</td>\n",
              "    </tr>\n",
              "    <tr>\n",
              "      <th>GE</th>\n",
              "      <td>0.426416</td>\n",
              "      <td>1.000000</td>\n",
              "      <td>0.387735</td>\n",
              "      <td>0.486742</td>\n",
              "      <td>0.429476</td>\n",
              "    </tr>\n",
              "    <tr>\n",
              "      <th>GOOG</th>\n",
              "      <td>0.612287</td>\n",
              "      <td>0.387735</td>\n",
              "      <td>1.000000</td>\n",
              "      <td>0.511889</td>\n",
              "      <td>0.721428</td>\n",
              "    </tr>\n",
              "    <tr>\n",
              "      <th>IBM</th>\n",
              "      <td>0.520649</td>\n",
              "      <td>0.486742</td>\n",
              "      <td>0.511889</td>\n",
              "      <td>1.000000</td>\n",
              "      <td>0.588914</td>\n",
              "    </tr>\n",
              "    <tr>\n",
              "      <th>MSFT</th>\n",
              "      <td>0.675125</td>\n",
              "      <td>0.429476</td>\n",
              "      <td>0.721428</td>\n",
              "      <td>0.588914</td>\n",
              "      <td>1.000000</td>\n",
              "    </tr>\n",
              "  </tbody>\n",
              "</table>\n",
              "</div>"
            ],
            "text/plain": [
              "Symbols      AAPL        GE      GOOG       IBM      MSFT\n",
              "Symbols                                                  \n",
              "AAPL     1.000000  0.426416  0.612287  0.520649  0.675125\n",
              "GE       0.426416  1.000000  0.387735  0.486742  0.429476\n",
              "GOOG     0.612287  0.387735  1.000000  0.511889  0.721428\n",
              "IBM      0.520649  0.486742  0.511889  1.000000  0.588914\n",
              "MSFT     0.675125  0.429476  0.721428  0.588914  1.000000"
            ]
          },
          "metadata": {},
          "execution_count": 14
        }
      ]
    },
    {
      "cell_type": "code",
      "metadata": {
        "colab": {
          "base_uri": "https://localhost:8080/",
          "height": 463
        },
        "id": "BmQmUGeyo2nq",
        "outputId": "421fac9b-16eb-4cce-d2d7-740defa3cda2"
      },
      "source": [
        "plt.scatter(correlation.GOOG, correlation.MSFT)\n",
        "plt.xlabel('Google Returns')\n",
        "plt.ylabel('Microsoft Returns')"
      ],
      "execution_count": null,
      "outputs": [
        {
          "output_type": "execute_result",
          "data": {
            "text/plain": [
              "Text(0, 0.5, 'Microsoft Returns')"
            ]
          },
          "metadata": {},
          "execution_count": 15
        },
        {
          "output_type": "display_data",
          "data": {
            "image/png": "[encoded data removed]",
            "text/plain": [
              "<Figure size 576x504 with 1 Axes>"
            ]
          },
          "metadata": {}
        }
      ]
    },
    {
      "cell_type": "code",
      "metadata": {
        "colab": {
          "base_uri": "https://localhost:8080/",
          "height": 463
        },
        "id": "3F7iQWK5WAVj",
        "outputId": "bb68e82f-059d-47f9-9423-38ede7f0ca1c"
      },
      "source": [
        "plt.scatter(correlation.GE, correlation.AAPL)\n",
        "plt.xlabel('GE Returns')\n",
        "plt.ylabel('Apple Returns')"
      ],
      "execution_count": null,
      "outputs": [
        {
          "output_type": "execute_result",
          "data": {
            "text/plain": [
              "Text(0, 0.5, 'Apple Returns')"
            ]
          },
          "metadata": {},
          "execution_count": 16
        },
        {
          "output_type": "display_data",
          "data": {
            "image/png": "[encoded data removed]",
            "text/plain": [
              "<Figure size 576x504 with 1 Axes>"
            ]
          },
          "metadata": {}
        }
      ]
    },
    {
      "cell_type": "code",
      "metadata": {
        "id": "uAKrR7Smo6gA",
        "colab": {
          "base_uri": "https://localhost:8080/",
          "height": 421
        },
        "outputId": "6dc667bb-c4f0-495d-8d07-3cdb5fbce5f8"
      },
      "source": [
        "plt.imshow(corr, cmap='hot', interpolation='none')\n",
        "plt.colorbar()\n",
        "plt.xticks(range(len(corr)), corr.columns)\n",
        "plt.yticks(range(len(corr)), corr.columns);"
      ],
      "execution_count": null,
      "outputs": [
        {
          "output_type": "display_data",
          "data": {
            "image/png": "[encoded data removed]",
            "text/plain": [
              "<Figure size 576x504 with 2 Axes>"
            ]
          },
          "metadata": {}
        }
      ]
    },
    {
      "cell_type": "code",
      "metadata": {
        "colab": {
          "base_uri": "https://localhost:8080/",
          "height": 445
        },
        "id": "HJP_GLPQi8i7",
        "outputId": "540c7cab-3289-4f3e-8b4f-72b12d0688eb"
      },
      "source": [
        "plt.scatter(correlation.mean(), correlation.std())\n",
        "plt.xlabel('Expected returns')\n",
        "plt.ylabel('Risk')\n",
        "for label, x, y in zip(correlation.columns, correlation.mean(), correlation.std()):\n",
        "    plt.annotate(\n",
        "        label, \n",
        "        xy = (x, y), xytext = (20, -20),\n",
        "        textcoords = 'offset points', ha = 'right', va = 'bottom',\n",
        "        bbox = dict(boxstyle = 'round,pad=0.5', fc = 'yellow', alpha = 0.5),\n",
        "        arrowprops = dict(arrowstyle = '->', connectionstyle = 'arc3,rad=0'))"
      ],
      "execution_count": null,
      "outputs": [
        {
          "output_type": "display_data",
          "data": {
            "image/png": "[encoded data removed]",
            "text/plain": [
              "<Figure size 576x504 with 1 Axes>"
            ]
          },
          "metadata": {}
        }
      ]
    },
    {
      "cell_type": "code",
      "metadata": {
        "colab": {
          "base_uri": "https://localhost:8080/",
          "height": 324
        },
        "id": "e8CUtjWDj4RK",
        "outputId": "7f9c037d-abef-410a-d47c-98a0b67a3356"
      },
      "source": [
        "\n",
        "google.tail()"
      ],
      "execution_count": null,
      "outputs": [
        {
          "output_type": "execute_result",
          "data": {
            "text/html": [
              "<div>\n",
              "<style scoped>\n",
              "    .dataframe tbody tr th:only-of-type {\n",
              "        vertical-align: middle;\n",
              "    }\n",
              "\n",
              "    .dataframe tbody tr th {\n",
              "        vertical-align: top;\n",
              "    }\n",
              "\n",
              "    .dataframe thead th {\n",
              "        text-align: right;\n",
              "    }\n",
              "</style>\n",
              "<table border=\"1\" class=\"dataframe\">\n",
              "  <thead>\n",
              "    <tr style=\"text-align: right;\">\n",
              "      <th></th>\n",
              "      <th>High</th>\n",
              "      <th>Low</th>\n",
              "      <th>Open</th>\n",
              "      <th>Close</th>\n",
              "      <th>Volume</th>\n",
              "      <th>Adj Close</th>\n",
              "    </tr>\n",
              "    <tr>\n",
              "      <th>Date</th>\n",
              "      <th></th>\n",
              "      <th></th>\n",
              "      <th></th>\n",
              "      <th></th>\n",
              "      <th></th>\n",
              "      <th></th>\n",
              "    </tr>\n",
              "  </thead>\n",
              "  <tbody>\n",
              "    <tr>\n",
              "      <th>2020-03-26</th>\n",
              "      <td>1169.969971</td>\n",
              "      <td>1093.530029</td>\n",
              "      <td>1111.800049</td>\n",
              "      <td>1161.750000</td>\n",
              "      <td>3571700.0</td>\n",
              "      <td>1161.750000</td>\n",
              "    </tr>\n",
              "    <tr>\n",
              "      <th>2020-03-27</th>\n",
              "      <td>1150.670044</td>\n",
              "      <td>1105.910034</td>\n",
              "      <td>1125.670044</td>\n",
              "      <td>1110.709961</td>\n",
              "      <td>3208500.0</td>\n",
              "      <td>1110.709961</td>\n",
              "    </tr>\n",
              "    <tr>\n",
              "      <th>2020-03-30</th>\n",
              "      <td>1151.630005</td>\n",
              "      <td>1096.479980</td>\n",
              "      <td>1125.040039</td>\n",
              "      <td>1146.819946</td>\n",
              "      <td>2574100.0</td>\n",
              "      <td>1146.819946</td>\n",
              "    </tr>\n",
              "    <tr>\n",
              "      <th>2020-03-31</th>\n",
              "      <td>1175.310059</td>\n",
              "      <td>1138.140015</td>\n",
              "      <td>1147.300049</td>\n",
              "      <td>1162.810059</td>\n",
              "      <td>2486400.0</td>\n",
              "      <td>1162.810059</td>\n",
              "    </tr>\n",
              "    <tr>\n",
              "      <th>2020-04-01</th>\n",
              "      <td>1129.689941</td>\n",
              "      <td>1097.449951</td>\n",
              "      <td>1122.000000</td>\n",
              "      <td>1105.619995</td>\n",
              "      <td>2344200.0</td>\n",
              "      <td>1105.619995</td>\n",
              "    </tr>\n",
              "  </tbody>\n",
              "</table>\n",
              "</div>"
            ],
            "text/plain": [
              "                   High          Low  ...     Volume    Adj Close\n",
              "Date                                  ...                        \n",
              "2020-03-26  1169.969971  1093.530029  ...  3571700.0  1161.750000\n",
              "2020-03-27  1150.670044  1105.910034  ...  3208500.0  1110.709961\n",
              "2020-03-30  1151.630005  1096.479980  ...  2574100.0  1146.819946\n",
              "2020-03-31  1175.310059  1138.140015  ...  2486400.0  1162.810059\n",
              "2020-04-01  1129.689941  1097.449951  ...  2344200.0  1105.619995\n",
              "\n",
              "[5 rows x 6 columns]"
            ]
          },
          "metadata": {},
          "execution_count": 19
        }
      ]
    },
    {
      "cell_type": "code",
      "metadata": {
        "colab": {
          "base_uri": "https://localhost:8080/",
          "height": 237
        },
        "id": "AKgSm8OXj-rg",
        "outputId": "ec97d494-ab4f-431b-f80b-cd784bc90b44"
      },
      "source": [
        "dfFeat = google.loc[:,['Adj Close','Volume']]\n",
        "dfFeat['HL_PCT'] = (google['High'] - google['Low']) / google['Close'] * 100.0\n",
        "dfFeat['PCT_change'] = (google['Close'] - google['Open']) / google['Open'] * 100.0\n",
        "dfFeat.tail()"
      ],
      "execution_count": null,
      "outputs": [
        {
          "output_type": "execute_result",
          "data": {
            "text/html": [
              "<div>\n",
              "<style scoped>\n",
              "    .dataframe tbody tr th:only-of-type {\n",
              "        vertical-align: middle;\n",
              "    }\n",
              "\n",
              "    .dataframe tbody tr th {\n",
              "        vertical-align: top;\n",
              "    }\n",
              "\n",
              "    .dataframe thead th {\n",
              "        text-align: right;\n",
              "    }\n",
              "</style>\n",
              "<table border=\"1\" class=\"dataframe\">\n",
              "  <thead>\n",
              "    <tr style=\"text-align: right;\">\n",
              "      <th></th>\n",
              "      <th>Adj Close</th>\n",
              "      <th>Volume</th>\n",
              "      <th>HL_PCT</th>\n",
              "      <th>PCT_change</th>\n",
              "    </tr>\n",
              "    <tr>\n",
              "      <th>Date</th>\n",
              "      <th></th>\n",
              "      <th></th>\n",
              "      <th></th>\n",
              "      <th></th>\n",
              "    </tr>\n",
              "  </thead>\n",
              "  <tbody>\n",
              "    <tr>\n",
              "      <th>2020-03-26</th>\n",
              "      <td>1161.750000</td>\n",
              "      <td>3571700.0</td>\n",
              "      <td>6.579724</td>\n",
              "      <td>4.492710</td>\n",
              "    </tr>\n",
              "    <tr>\n",
              "      <th>2020-03-27</th>\n",
              "      <td>1110.709961</td>\n",
              "      <td>3208500.0</td>\n",
              "      <td>4.029856</td>\n",
              "      <td>-1.328994</td>\n",
              "    </tr>\n",
              "    <tr>\n",
              "      <th>2020-03-30</th>\n",
              "      <td>1146.819946</td>\n",
              "      <td>2574100.0</td>\n",
              "      <td>4.808952</td>\n",
              "      <td>1.935923</td>\n",
              "    </tr>\n",
              "    <tr>\n",
              "      <th>2020-03-31</th>\n",
              "      <td>1162.810059</td>\n",
              "      <td>2486400.0</td>\n",
              "      <td>3.196571</td>\n",
              "      <td>1.351870</td>\n",
              "    </tr>\n",
              "    <tr>\n",
              "      <th>2020-04-01</th>\n",
              "      <td>1105.619995</td>\n",
              "      <td>2344200.0</td>\n",
              "      <td>2.916010</td>\n",
              "      <td>-1.459893</td>\n",
              "    </tr>\n",
              "  </tbody>\n",
              "</table>\n",
              "</div>"
            ],
            "text/plain": [
              "              Adj Close     Volume    HL_PCT  PCT_change\n",
              "Date                                                    \n",
              "2020-03-26  1161.750000  3571700.0  6.579724    4.492710\n",
              "2020-03-27  1110.709961  3208500.0  4.029856   -1.328994\n",
              "2020-03-30  1146.819946  2574100.0  4.808952    1.935923\n",
              "2020-03-31  1162.810059  2486400.0  3.196571    1.351870\n",
              "2020-04-01  1105.619995  2344200.0  2.916010   -1.459893"
            ]
          },
          "metadata": {},
          "execution_count": 20
        }
      ]
    },
    {
      "cell_type": "code",
      "metadata": {
        "colab": {
          "base_uri": "https://localhost:8080/",
          "height": 237
        },
        "id": "JG52hWNfkTmK",
        "outputId": "400be068-e27e-4763-846d-1d0aa82f491a"
      },
      "source": [
        "dfFeat.fillna(value=-99999, inplace=True)\n",
        "# forecasting 20% of data and predicting the AdjCllose\n",
        "forecast_col = 'Adj Close'\n",
        "forecast_out = int(math.ceil(0.2 * len(dfFeat)))\n",
        "dfFeat['label'] = dfFeat[forecast_col].shift(forecast_out)\n",
        "dfFeat_noDrop = dfFeat\n",
        "dfFeat.dropna(inplace=True)\n",
        "dfFeat.tail()"
      ],
      "execution_count": null,
      "outputs": [
        {
          "output_type": "execute_result",
          "data": {
            "text/html": [
              "<div>\n",
              "<style scoped>\n",
              "    .dataframe tbody tr th:only-of-type {\n",
              "        vertical-align: middle;\n",
              "    }\n",
              "\n",
              "    .dataframe tbody tr th {\n",
              "        vertical-align: top;\n",
              "    }\n",
              "\n",
              "    .dataframe thead th {\n",
              "        text-align: right;\n",
              "    }\n",
              "</style>\n",
              "<table border=\"1\" class=\"dataframe\">\n",
              "  <thead>\n",
              "    <tr style=\"text-align: right;\">\n",
              "      <th></th>\n",
              "      <th>Adj Close</th>\n",
              "      <th>Volume</th>\n",
              "      <th>HL_PCT</th>\n",
              "      <th>PCT_change</th>\n",
              "      <th>label</th>\n",
              "    </tr>\n",
              "    <tr>\n",
              "      <th>Date</th>\n",
              "      <th></th>\n",
              "      <th></th>\n",
              "      <th></th>\n",
              "      <th></th>\n",
              "      <th></th>\n",
              "    </tr>\n",
              "  </thead>\n",
              "  <tbody>\n",
              "    <tr>\n",
              "      <th>2020-03-26</th>\n",
              "      <td>1161.750000</td>\n",
              "      <td>3571700.0</td>\n",
              "      <td>6.579724</td>\n",
              "      <td>4.492710</td>\n",
              "      <td>1142.319946</td>\n",
              "    </tr>\n",
              "    <tr>\n",
              "      <th>2020-03-27</th>\n",
              "      <td>1110.709961</td>\n",
              "      <td>3208500.0</td>\n",
              "      <td>4.029856</td>\n",
              "      <td>-1.328994</td>\n",
              "      <td>1175.760010</td>\n",
              "    </tr>\n",
              "    <tr>\n",
              "      <th>2020-03-30</th>\n",
              "      <td>1146.819946</td>\n",
              "      <td>2574100.0</td>\n",
              "      <td>4.808952</td>\n",
              "      <td>1.935923</td>\n",
              "      <td>1193.199951</td>\n",
              "    </tr>\n",
              "    <tr>\n",
              "      <th>2020-03-31</th>\n",
              "      <td>1162.810059</td>\n",
              "      <td>2486400.0</td>\n",
              "      <td>3.196571</td>\n",
              "      <td>1.351870</td>\n",
              "      <td>1193.319946</td>\n",
              "    </tr>\n",
              "    <tr>\n",
              "      <th>2020-04-01</th>\n",
              "      <td>1105.619995</td>\n",
              "      <td>2344200.0</td>\n",
              "      <td>2.916010</td>\n",
              "      <td>-1.459893</td>\n",
              "      <td>1185.550049</td>\n",
              "    </tr>\n",
              "  </tbody>\n",
              "</table>\n",
              "</div>"
            ],
            "text/plain": [
              "              Adj Close     Volume    HL_PCT  PCT_change        label\n",
              "Date                                                                 \n",
              "2020-03-26  1161.750000  3571700.0  6.579724    4.492710  1142.319946\n",
              "2020-03-27  1110.709961  3208500.0  4.029856   -1.328994  1175.760010\n",
              "2020-03-30  1146.819946  2574100.0  4.808952    1.935923  1193.199951\n",
              "2020-03-31  1162.810059  2486400.0  3.196571    1.351870  1193.319946\n",
              "2020-04-01  1105.619995  2344200.0  2.916010   -1.459893  1185.550049"
            ]
          },
          "metadata": {},
          "execution_count": 21
        }
      ]
    },
    {
      "cell_type": "code",
      "metadata": {
        "id": "N8kTpKgekWqa",
        "colab": {
          "base_uri": "https://localhost:8080/"
        },
        "outputId": "04997b15-3dd9-4b4c-8b63-6302b7c0bbc7"
      },
      "source": [
        "forecast_out"
      ],
      "execution_count": null,
      "outputs": [
        {
          "output_type": "execute_result",
          "data": {
            "text/plain": [
              "265"
            ]
          },
          "metadata": {},
          "execution_count": 22
        }
      ]
    },
    {
      "cell_type": "code",
      "metadata": {
        "id": "rUI7E4dqOJB3"
      },
      "source": [
        "X = np.array(dfFeat.drop(['label'],1))\n",
        "y = np.array(dfFeat['label'])\n",
        "X = preprocessing.scale(X)\n",
        "X_late = X[-forecast_out:]\n",
        "y = np.array(dfFeat['label'])"
      ],
      "execution_count": null,
      "outputs": []
    },
    {
      "cell_type": "code",
      "metadata": {
        "id": "Hz4_QRNKHIIw"
      },
      "source": [
        "X_train, X_test, y_train, y_test = train_test_split(X, y, test_size = 0.15, random_state=2)"
      ],
      "execution_count": null,
      "outputs": []
    },
    {
      "cell_type": "code",
      "metadata": {
        "colab": {
          "base_uri": "https://localhost:8080/"
        },
        "id": "jlDsovC-HKo0",
        "outputId": "70075809-1206-4cf7-cf0e-1bb1399e09fd"
      },
      "source": [
        "# Linear regression\n",
        "linearReg = LinearRegression()\n",
        "linearReg.fit(X_train, y_train)\n",
        "\n",
        "y_predict = linearReg.predict(X_test)\n",
        "accuracy = linearReg.score(X_test, y_test)\n",
        "\n",
        "print(\"Prediction Accuracy: %.1f%%\" % (accuracy * 100.0))"
      ],
      "execution_count": null,
      "outputs": [
        {
          "output_type": "stream",
          "name": "stdout",
          "text": [
            "Prediction Accuracy: 74.9%\n"
          ]
        }
      ]
    },
    {
      "cell_type": "code",
      "metadata": {
        "id": "e0bfMoHTHQX3"
      },
      "source": [
        "forecastStock = linearReg.predict(X_late)\n",
        "dfFeat['Forecast'] = np.nan"
      ],
      "execution_count": null,
      "outputs": []
    },
    {
      "cell_type": "code",
      "metadata": {
        "colab": {
          "base_uri": "https://localhost:8080/",
          "height": 237
        },
        "id": "3jTLjnolHTEr",
        "outputId": "74612b73-f700-41cf-c1f5-57511b13af75"
      },
      "source": [
        "dfFeat.tail()"
      ],
      "execution_count": null,
      "outputs": [
        {
          "output_type": "execute_result",
          "data": {
            "text/html": [
              "<div>\n",
              "<style scoped>\n",
              "    .dataframe tbody tr th:only-of-type {\n",
              "        vertical-align: middle;\n",
              "    }\n",
              "\n",
              "    .dataframe tbody tr th {\n",
              "        vertical-align: top;\n",
              "    }\n",
              "\n",
              "    .dataframe thead th {\n",
              "        text-align: right;\n",
              "    }\n",
              "</style>\n",
              "<table border=\"1\" class=\"dataframe\">\n",
              "  <thead>\n",
              "    <tr style=\"text-align: right;\">\n",
              "      <th></th>\n",
              "      <th>Adj Close</th>\n",
              "      <th>Volume</th>\n",
              "      <th>HL_PCT</th>\n",
              "      <th>PCT_change</th>\n",
              "      <th>label</th>\n",
              "      <th>Forecast</th>\n",
              "    </tr>\n",
              "    <tr>\n",
              "      <th>Date</th>\n",
              "      <th></th>\n",
              "      <th></th>\n",
              "      <th></th>\n",
              "      <th></th>\n",
              "      <th></th>\n",
              "      <th></th>\n",
              "    </tr>\n",
              "  </thead>\n",
              "  <tbody>\n",
              "    <tr>\n",
              "      <th>2020-03-26</th>\n",
              "      <td>1161.750000</td>\n",
              "      <td>3571700.0</td>\n",
              "      <td>6.579724</td>\n",
              "      <td>4.492710</td>\n",
              "      <td>1142.319946</td>\n",
              "      <td>NaN</td>\n",
              "    </tr>\n",
              "    <tr>\n",
              "      <th>2020-03-27</th>\n",
              "      <td>1110.709961</td>\n",
              "      <td>3208500.0</td>\n",
              "      <td>4.029856</td>\n",
              "      <td>-1.328994</td>\n",
              "      <td>1175.760010</td>\n",
              "      <td>NaN</td>\n",
              "    </tr>\n",
              "    <tr>\n",
              "      <th>2020-03-30</th>\n",
              "      <td>1146.819946</td>\n",
              "      <td>2574100.0</td>\n",
              "      <td>4.808952</td>\n",
              "      <td>1.935923</td>\n",
              "      <td>1193.199951</td>\n",
              "      <td>NaN</td>\n",
              "    </tr>\n",
              "    <tr>\n",
              "      <th>2020-03-31</th>\n",
              "      <td>1162.810059</td>\n",
              "      <td>2486400.0</td>\n",
              "      <td>3.196571</td>\n",
              "      <td>1.351870</td>\n",
              "      <td>1193.319946</td>\n",
              "      <td>NaN</td>\n",
              "    </tr>\n",
              "    <tr>\n",
              "      <th>2020-04-01</th>\n",
              "      <td>1105.619995</td>\n",
              "      <td>2344200.0</td>\n",
              "      <td>2.916010</td>\n",
              "      <td>-1.459893</td>\n",
              "      <td>1185.550049</td>\n",
              "      <td>NaN</td>\n",
              "    </tr>\n",
              "  </tbody>\n",
              "</table>\n",
              "</div>"
            ],
            "text/plain": [
              "              Adj Close     Volume    HL_PCT  PCT_change        label  Forecast\n",
              "Date                                                                           \n",
              "2020-03-26  1161.750000  3571700.0  6.579724    4.492710  1142.319946       NaN\n",
              "2020-03-27  1110.709961  3208500.0  4.029856   -1.328994  1175.760010       NaN\n",
              "2020-03-30  1146.819946  2574100.0  4.808952    1.935923  1193.199951       NaN\n",
              "2020-03-31  1162.810059  2486400.0  3.196571    1.351870  1193.319946       NaN\n",
              "2020-04-01  1105.619995  2344200.0  2.916010   -1.459893  1185.550049       NaN"
            ]
          },
          "metadata": {},
          "execution_count": 27
        }
      ]
    },
    {
      "cell_type": "code",
      "metadata": {
        "colab": {
          "base_uri": "https://localhost:8080/"
        },
        "id": "QtJyZd3EHV22",
        "outputId": "4d417fd5-3a82-4b5f-fc5b-b1f1f5a1abe9"
      },
      "source": [
        "dfFeat.iloc[-1].name"
      ],
      "execution_count": null,
      "outputs": [
        {
          "output_type": "execute_result",
          "data": {
            "text/plain": [
              "Timestamp('2020-04-01 00:00:00')"
            ]
          },
          "metadata": {},
          "execution_count": 28
        }
      ]
    },
    {
      "cell_type": "code",
      "metadata": {
        "colab": {
          "base_uri": "https://localhost:8080/",
          "height": 427
        },
        "id": "9stjzZ37HYr6",
        "outputId": "908e3b10-4f17-45ca-f166-c007c9c090e6"
      },
      "source": [
        "dateRecent = dfFeat.iloc[-1].name\n",
        "nextCalc = dateRecent + datetime.timedelta(days=1)\n",
        "\n",
        "for i in forecastStock:\n",
        "    datePred = nextCalc\n",
        "    nextCalc += datetime.timedelta(days=1)\n",
        "    dfFeat.loc[nextCalc] = [np.nan for _ in range(len(dfFeat.columns)-1)]+[i]\n",
        "dfFeat['Adj Close'].tail(500).plot()\n",
        "dfFeat['Forecast'].tail(500).plot()\n",
        "plt.legend(loc=2)\n",
        "plt.xlabel('Date')\n",
        "plt.ylabel('Price')\n",
        "plt.show()"
      ],
      "execution_count": null,
      "outputs": [
        {
          "output_type": "display_data",
          "data": {
            "image/png": "[encoded data removed]",
            "text/plain": [
              "<Figure size 576x504 with 1 Axes>"
            ]
          },
          "metadata": {}
        }
      ]
    },
    {
      "cell_type": "code",
      "metadata": {
        "id": "5R8YicQWHeuo",
        "colab": {
          "base_uri": "https://localhost:8080/",
          "height": 324
        },
        "outputId": "91ad70c1-b8db-49ac-e829-6a8e90304749"
      },
      "source": [
        "# setting the timeframe for our data gathering\n",
        "past = datetime.datetime(2020, 1, 1)\n",
        "present = datetime.datetime(2020, 5, 1)\n",
        "\n",
        "# Yahoo API google finance data\n",
        "google = data.DataReader(\"GOOG\", 'yahoo', start=past, end=present)\n",
        "google.tail()\n"
      ],
      "execution_count": null,
      "outputs": [
        {
          "output_type": "execute_result",
          "data": {
            "text/html": [
              "<div>\n",
              "<style scoped>\n",
              "    .dataframe tbody tr th:only-of-type {\n",
              "        vertical-align: middle;\n",
              "    }\n",
              "\n",
              "    .dataframe tbody tr th {\n",
              "        vertical-align: top;\n",
              "    }\n",
              "\n",
              "    .dataframe thead th {\n",
              "        text-align: right;\n",
              "    }\n",
              "</style>\n",
              "<table border=\"1\" class=\"dataframe\">\n",
              "  <thead>\n",
              "    <tr style=\"text-align: right;\">\n",
              "      <th></th>\n",
              "      <th>High</th>\n",
              "      <th>Low</th>\n",
              "      <th>Open</th>\n",
              "      <th>Close</th>\n",
              "      <th>Volume</th>\n",
              "      <th>Adj Close</th>\n",
              "    </tr>\n",
              "    <tr>\n",
              "      <th>Date</th>\n",
              "      <th></th>\n",
              "      <th></th>\n",
              "      <th></th>\n",
              "      <th></th>\n",
              "      <th></th>\n",
              "      <th></th>\n",
              "    </tr>\n",
              "  </thead>\n",
              "  <tbody>\n",
              "    <tr>\n",
              "      <th>2020-04-27</th>\n",
              "      <td>1296.150024</td>\n",
              "      <td>1269.000000</td>\n",
              "      <td>1296.000000</td>\n",
              "      <td>1275.880005</td>\n",
              "      <td>1600600</td>\n",
              "      <td>1275.880005</td>\n",
              "    </tr>\n",
              "    <tr>\n",
              "      <th>2020-04-28</th>\n",
              "      <td>1288.050049</td>\n",
              "      <td>1232.199951</td>\n",
              "      <td>1287.930054</td>\n",
              "      <td>1233.670044</td>\n",
              "      <td>2951300</td>\n",
              "      <td>1233.670044</td>\n",
              "    </tr>\n",
              "    <tr>\n",
              "      <th>2020-04-29</th>\n",
              "      <td>1359.989990</td>\n",
              "      <td>1325.339966</td>\n",
              "      <td>1341.459961</td>\n",
              "      <td>1341.479980</td>\n",
              "      <td>3793600</td>\n",
              "      <td>1341.479980</td>\n",
              "    </tr>\n",
              "    <tr>\n",
              "      <th>2020-04-30</th>\n",
              "      <td>1352.819946</td>\n",
              "      <td>1322.489990</td>\n",
              "      <td>1324.880005</td>\n",
              "      <td>1348.660034</td>\n",
              "      <td>2668900</td>\n",
              "      <td>1348.660034</td>\n",
              "    </tr>\n",
              "    <tr>\n",
              "      <th>2020-05-01</th>\n",
              "      <td>1352.069946</td>\n",
              "      <td>1311.000000</td>\n",
              "      <td>1328.500000</td>\n",
              "      <td>1320.609985</td>\n",
              "      <td>2072500</td>\n",
              "      <td>1320.609985</td>\n",
              "    </tr>\n",
              "  </tbody>\n",
              "</table>\n",
              "</div>"
            ],
            "text/plain": [
              "                   High          Low  ...   Volume    Adj Close\n",
              "Date                                  ...                      \n",
              "2020-04-27  1296.150024  1269.000000  ...  1600600  1275.880005\n",
              "2020-04-28  1288.050049  1232.199951  ...  2951300  1233.670044\n",
              "2020-04-29  1359.989990  1325.339966  ...  3793600  1341.479980\n",
              "2020-04-30  1352.819946  1322.489990  ...  2668900  1348.660034\n",
              "2020-05-01  1352.069946  1311.000000  ...  2072500  1320.609985\n",
              "\n",
              "[5 rows x 6 columns]"
            ]
          },
          "metadata": {},
          "execution_count": 30
        }
      ]
    },
    {
      "cell_type": "code",
      "metadata": {
        "id": "K1vBSCnWILKP"
      },
      "source": [
        "# moving average mean of closing data for past 6 months\n",
        "googleClose = google['Adj Close']\n",
        "#vgMean = googleClose.rolling(window=180).mean()"
      ],
      "execution_count": null,
      "outputs": []
    },
    {
      "cell_type": "code",
      "metadata": {
        "colab": {
          "base_uri": "https://localhost:8080/",
          "height": 453
        },
        "id": "n7WOM-i5IY3H",
        "outputId": "bd3a2676-828c-464d-d626-ebc27e367c5f"
      },
      "source": [
        "# matplotlib plot of Google data\n",
        "mpl.rc('figure', figsize=(8, 7))\n",
        "mpl.__version__\n",
        "\n",
        "\n",
        "style.use('ggplot')\n",
        "googleClose.plot(label='GOOG')\n",
        "#avgMean.plot(label='avgMean')\n",
        "plt.legend()"
      ],
      "execution_count": null,
      "outputs": [
        {
          "output_type": "execute_result",
          "data": {
            "text/plain": [
              "<matplotlib.legend.Legend at 0x7fd70a863b90>"
            ]
          },
          "metadata": {},
          "execution_count": 32
        },
        {
          "output_type": "display_data",
          "data": {
            "image/png": "[encoded data removed]",
            "text/plain": [
              "<Figure size 576x504 with 1 Axes>"
            ]
          },
          "metadata": {}
        }
      ]
    },
    {
      "cell_type": "code",
      "metadata": {
        "colab": {
          "base_uri": "https://localhost:8080/",
          "height": 453
        },
        "id": "lI-HYloaIeIV",
        "outputId": "c803dae9-0377-4ff6-f4f8-e1d5e53fcffd"
      },
      "source": [
        "# returns\n",
        "returns = googleClose / googleClose.shift(1) - 1\n",
        "returns.plot(label='return')"
      ],
      "execution_count": null,
      "outputs": [
        {
          "output_type": "execute_result",
          "data": {
            "text/plain": [
              "<matplotlib.axes._subplots.AxesSubplot at 0x7fd70aa78650>"
            ]
          },
          "metadata": {},
          "execution_count": 33
        },
        {
          "output_type": "display_data",
          "data": {
            "image/png": "[encoded data removed]",
            "text/plain": [
              "<Figure size 576x504 with 1 Axes>"
            ]
          },
          "metadata": {}
        }
      ]
    },
    {
      "cell_type": "code",
      "metadata": {
        "colab": {
          "base_uri": "https://localhost:8080/",
          "height": 289
        },
        "id": "PqPPY9GcIjxn",
        "outputId": "cf22efba-e696-4a5c-805c-f74c04ca1d3f"
      },
      "source": [
        "df = data.DataReader(['AAPL', 'GE', 'GOOG', 'IBM', 'MSFT'],'yahoo',start=past,end=present)\n",
        "df.tail()"
      ],
      "execution_count": null,
      "outputs": [
        {
          "output_type": "execute_result",
          "data": {
            "text/html": [
              "<div>\n",
              "<style scoped>\n",
              "    .dataframe tbody tr th:only-of-type {\n",
              "        vertical-align: middle;\n",
              "    }\n",
              "\n",
              "    .dataframe tbody tr th {\n",
              "        vertical-align: top;\n",
              "    }\n",
              "\n",
              "    .dataframe thead tr th {\n",
              "        text-align: left;\n",
              "    }\n",
              "\n",
              "    .dataframe thead tr:last-of-type th {\n",
              "        text-align: right;\n",
              "    }\n",
              "</style>\n",
              "<table border=\"1\" class=\"dataframe\">\n",
              "  <thead>\n",
              "    <tr>\n",
              "      <th>Attributes</th>\n",
              "      <th colspan=\"5\" halign=\"left\">Adj Close</th>\n",
              "      <th colspan=\"5\" halign=\"left\">Close</th>\n",
              "      <th colspan=\"5\" halign=\"left\">High</th>\n",
              "      <th colspan=\"5\" halign=\"left\">Low</th>\n",
              "      <th colspan=\"5\" halign=\"left\">Open</th>\n",
              "      <th colspan=\"5\" halign=\"left\">Volume</th>\n",
              "    </tr>\n",
              "    <tr>\n",
              "      <th>Symbols</th>\n",
              "      <th>AAPL</th>\n",
              "      <th>GE</th>\n",
              "      <th>GOOG</th>\n",
              "      <th>IBM</th>\n",
              "      <th>MSFT</th>\n",
              "      <th>AAPL</th>\n",
              "      <th>GE</th>\n",
              "      <th>GOOG</th>\n",
              "      <th>IBM</th>\n",
              "      <th>MSFT</th>\n",
              "      <th>AAPL</th>\n",
              "      <th>GE</th>\n",
              "      <th>GOOG</th>\n",
              "      <th>IBM</th>\n",
              "      <th>MSFT</th>\n",
              "      <th>AAPL</th>\n",
              "      <th>GE</th>\n",
              "      <th>GOOG</th>\n",
              "      <th>IBM</th>\n",
              "      <th>MSFT</th>\n",
              "      <th>AAPL</th>\n",
              "      <th>GE</th>\n",
              "      <th>GOOG</th>\n",
              "      <th>IBM</th>\n",
              "      <th>MSFT</th>\n",
              "      <th>AAPL</th>\n",
              "      <th>GE</th>\n",
              "      <th>GOOG</th>\n",
              "      <th>IBM</th>\n",
              "      <th>MSFT</th>\n",
              "    </tr>\n",
              "    <tr>\n",
              "      <th>Date</th>\n",
              "      <th></th>\n",
              "      <th></th>\n",
              "      <th></th>\n",
              "      <th></th>\n",
              "      <th></th>\n",
              "      <th></th>\n",
              "      <th></th>\n",
              "      <th></th>\n",
              "      <th></th>\n",
              "      <th></th>\n",
              "      <th></th>\n",
              "      <th></th>\n",
              "      <th></th>\n",
              "      <th></th>\n",
              "      <th></th>\n",
              "      <th></th>\n",
              "      <th></th>\n",
              "      <th></th>\n",
              "      <th></th>\n",
              "      <th></th>\n",
              "      <th></th>\n",
              "      <th></th>\n",
              "      <th></th>\n",
              "      <th></th>\n",
              "      <th></th>\n",
              "      <th></th>\n",
              "      <th></th>\n",
              "      <th></th>\n",
              "      <th></th>\n",
              "      <th></th>\n",
              "    </tr>\n",
              "  </thead>\n",
              "  <tbody>\n",
              "    <tr>\n",
              "      <th>2020-04-27</th>\n",
              "      <td>69.921890</td>\n",
              "      <td>51.114677</td>\n",
              "      <td>1275.880005</td>\n",
              "      <td>110.041534</td>\n",
              "      <td>171.260361</td>\n",
              "      <td>70.792503</td>\n",
              "      <td>51.439999</td>\n",
              "      <td>1275.880005</td>\n",
              "      <td>120.382408</td>\n",
              "      <td>174.050003</td>\n",
              "      <td>71.135002</td>\n",
              "      <td>51.759998</td>\n",
              "      <td>1296.150024</td>\n",
              "      <td>121.405357</td>\n",
              "      <td>176.899994</td>\n",
              "      <td>69.987503</td>\n",
              "      <td>50.639999</td>\n",
              "      <td>1269.000000</td>\n",
              "      <td>119.952202</td>\n",
              "      <td>173.300003</td>\n",
              "      <td>70.449997</td>\n",
              "      <td>51.040001</td>\n",
              "      <td>1296.000000</td>\n",
              "      <td>120.038239</td>\n",
              "      <td>176.589996</td>\n",
              "      <td>117087600.0</td>\n",
              "      <td>13379775.0</td>\n",
              "      <td>1600600.0</td>\n",
              "      <td>5150295.0</td>\n",
              "      <td>33194400.0</td>\n",
              "    </tr>\n",
              "    <tr>\n",
              "      <th>2020-04-28</th>\n",
              "      <td>68.788490</td>\n",
              "      <td>54.055962</td>\n",
              "      <td>1233.670044</td>\n",
              "      <td>110.347404</td>\n",
              "      <td>167.088333</td>\n",
              "      <td>69.644997</td>\n",
              "      <td>54.400002</td>\n",
              "      <td>1233.670044</td>\n",
              "      <td>120.717018</td>\n",
              "      <td>169.809998</td>\n",
              "      <td>71.457497</td>\n",
              "      <td>55.360001</td>\n",
              "      <td>1288.050049</td>\n",
              "      <td>122.562141</td>\n",
              "      <td>175.669998</td>\n",
              "      <td>69.550003</td>\n",
              "      <td>52.560001</td>\n",
              "      <td>1232.199951</td>\n",
              "      <td>119.866158</td>\n",
              "      <td>169.389999</td>\n",
              "      <td>71.269997</td>\n",
              "      <td>52.560001</td>\n",
              "      <td>1287.930054</td>\n",
              "      <td>122.399620</td>\n",
              "      <td>175.589996</td>\n",
              "      <td>112004800.0</td>\n",
              "      <td>17583575.0</td>\n",
              "      <td>2951300.0</td>\n",
              "      <td>4997893.0</td>\n",
              "      <td>34392700.0</td>\n",
              "    </tr>\n",
              "    <tr>\n",
              "      <th>2020-04-29</th>\n",
              "      <td>71.047867</td>\n",
              "      <td>52.307091</td>\n",
              "      <td>1341.479980</td>\n",
              "      <td>112.462242</td>\n",
              "      <td>174.586182</td>\n",
              "      <td>71.932503</td>\n",
              "      <td>52.639999</td>\n",
              "      <td>1341.479980</td>\n",
              "      <td>123.030594</td>\n",
              "      <td>177.429993</td>\n",
              "      <td>72.417503</td>\n",
              "      <td>55.200001</td>\n",
              "      <td>1359.989990</td>\n",
              "      <td>123.623329</td>\n",
              "      <td>177.679993</td>\n",
              "      <td>70.972504</td>\n",
              "      <td>52.160000</td>\n",
              "      <td>1325.339966</td>\n",
              "      <td>121.921608</td>\n",
              "      <td>171.880005</td>\n",
              "      <td>71.182503</td>\n",
              "      <td>53.439999</td>\n",
              "      <td>1341.459961</td>\n",
              "      <td>123.212234</td>\n",
              "      <td>173.220001</td>\n",
              "      <td>137280800.0</td>\n",
              "      <td>28153500.0</td>\n",
              "      <td>3793600.0</td>\n",
              "      <td>5499450.0</td>\n",
              "      <td>51286600.0</td>\n",
              "    </tr>\n",
              "    <tr>\n",
              "      <th>2020-04-30</th>\n",
              "      <td>72.546700</td>\n",
              "      <td>54.055962</td>\n",
              "      <td>1348.660034</td>\n",
              "      <td>109.726936</td>\n",
              "      <td>176.337646</td>\n",
              "      <td>73.449997</td>\n",
              "      <td>54.400002</td>\n",
              "      <td>1348.660034</td>\n",
              "      <td>120.038239</td>\n",
              "      <td>179.210007</td>\n",
              "      <td>73.632500</td>\n",
              "      <td>54.560001</td>\n",
              "      <td>1352.819946</td>\n",
              "      <td>121.673042</td>\n",
              "      <td>180.399994</td>\n",
              "      <td>72.087502</td>\n",
              "      <td>51.279999</td>\n",
              "      <td>1322.489990</td>\n",
              "      <td>119.713196</td>\n",
              "      <td>176.229996</td>\n",
              "      <td>72.489998</td>\n",
              "      <td>52.480000</td>\n",
              "      <td>1324.880005</td>\n",
              "      <td>120.956024</td>\n",
              "      <td>180.000000</td>\n",
              "      <td>183064000.0</td>\n",
              "      <td>21963888.0</td>\n",
              "      <td>2668900.0</td>\n",
              "      <td>6941047.0</td>\n",
              "      <td>53875900.0</td>\n",
              "    </tr>\n",
              "    <tr>\n",
              "      <th>2020-05-01</th>\n",
              "      <td>71.378754</td>\n",
              "      <td>51.671139</td>\n",
              "      <td>1320.609985</td>\n",
              "      <td>106.502243</td>\n",
              "      <td>171.772049</td>\n",
              "      <td>72.267502</td>\n",
              "      <td>52.000000</td>\n",
              "      <td>1320.609985</td>\n",
              "      <td>116.510513</td>\n",
              "      <td>174.570007</td>\n",
              "      <td>74.750000</td>\n",
              "      <td>53.919998</td>\n",
              "      <td>1352.069946</td>\n",
              "      <td>118.040154</td>\n",
              "      <td>178.639999</td>\n",
              "      <td>71.462502</td>\n",
              "      <td>51.279999</td>\n",
              "      <td>1311.000000</td>\n",
              "      <td>116.051628</td>\n",
              "      <td>174.009995</td>\n",
              "      <td>71.562500</td>\n",
              "      <td>53.360001</td>\n",
              "      <td>1328.500000</td>\n",
              "      <td>117.772469</td>\n",
              "      <td>175.800003</td>\n",
              "      <td>240616800.0</td>\n",
              "      <td>15047063.0</td>\n",
              "      <td>2072500.0</td>\n",
              "      <td>5152073.0</td>\n",
              "      <td>39370500.0</td>\n",
              "    </tr>\n",
              "  </tbody>\n",
              "</table>\n",
              "</div>"
            ],
            "text/plain": [
              "Attributes  Adj Close                          ...     Volume                       \n",
              "Symbols          AAPL         GE         GOOG  ...       GOOG        IBM        MSFT\n",
              "Date                                           ...                                  \n",
              "2020-04-27  69.921890  51.114677  1275.880005  ...  1600600.0  5150295.0  33194400.0\n",
              "2020-04-28  68.788490  54.055962  1233.670044  ...  2951300.0  4997893.0  34392700.0\n",
              "2020-04-29  71.047867  52.307091  1341.479980  ...  3793600.0  5499450.0  51286600.0\n",
              "2020-04-30  72.546700  54.055962  1348.660034  ...  2668900.0  6941047.0  53875900.0\n",
              "2020-05-01  71.378754  51.671139  1320.609985  ...  2072500.0  5152073.0  39370500.0\n",
              "\n",
              "[5 rows x 30 columns]"
            ]
          },
          "metadata": {},
          "execution_count": 34
        }
      ]
    },
    {
      "cell_type": "code",
      "metadata": {
        "colab": {
          "base_uri": "https://localhost:8080/",
          "height": 237
        },
        "id": "EzOXherFIkvh",
        "outputId": "875105eb-132d-456c-d9e5-5ea49902d6a3"
      },
      "source": [
        "\n",
        "df = data.DataReader(['AAPL', 'GE', 'GOOG', 'IBM', 'MSFT'],'yahoo',\n",
        "                     start=past,end=present)['Adj Close']\n",
        "df.tail()"
      ],
      "execution_count": null,
      "outputs": [
        {
          "output_type": "execute_result",
          "data": {
            "text/html": [
              "<div>\n",
              "<style scoped>\n",
              "    .dataframe tbody tr th:only-of-type {\n",
              "        vertical-align: middle;\n",
              "    }\n",
              "\n",
              "    .dataframe tbody tr th {\n",
              "        vertical-align: top;\n",
              "    }\n",
              "\n",
              "    .dataframe thead th {\n",
              "        text-align: right;\n",
              "    }\n",
              "</style>\n",
              "<table border=\"1\" class=\"dataframe\">\n",
              "  <thead>\n",
              "    <tr style=\"text-align: right;\">\n",
              "      <th>Symbols</th>\n",
              "      <th>AAPL</th>\n",
              "      <th>GE</th>\n",
              "      <th>GOOG</th>\n",
              "      <th>IBM</th>\n",
              "      <th>MSFT</th>\n",
              "    </tr>\n",
              "    <tr>\n",
              "      <th>Date</th>\n",
              "      <th></th>\n",
              "      <th></th>\n",
              "      <th></th>\n",
              "      <th></th>\n",
              "      <th></th>\n",
              "    </tr>\n",
              "  </thead>\n",
              "  <tbody>\n",
              "    <tr>\n",
              "      <th>2020-04-27</th>\n",
              "      <td>69.921890</td>\n",
              "      <td>51.114677</td>\n",
              "      <td>1275.880005</td>\n",
              "      <td>110.041527</td>\n",
              "      <td>171.260376</td>\n",
              "    </tr>\n",
              "    <tr>\n",
              "      <th>2020-04-28</th>\n",
              "      <td>68.788498</td>\n",
              "      <td>54.055958</td>\n",
              "      <td>1233.670044</td>\n",
              "      <td>110.347404</td>\n",
              "      <td>167.088303</td>\n",
              "    </tr>\n",
              "    <tr>\n",
              "      <th>2020-04-29</th>\n",
              "      <td>71.047882</td>\n",
              "      <td>52.307083</td>\n",
              "      <td>1341.479980</td>\n",
              "      <td>112.462250</td>\n",
              "      <td>174.586197</td>\n",
              "    </tr>\n",
              "    <tr>\n",
              "      <th>2020-04-30</th>\n",
              "      <td>72.546700</td>\n",
              "      <td>54.055958</td>\n",
              "      <td>1348.660034</td>\n",
              "      <td>109.726929</td>\n",
              "      <td>176.337677</td>\n",
              "    </tr>\n",
              "    <tr>\n",
              "      <th>2020-05-01</th>\n",
              "      <td>71.378754</td>\n",
              "      <td>51.671135</td>\n",
              "      <td>1320.609985</td>\n",
              "      <td>106.502243</td>\n",
              "      <td>171.772034</td>\n",
              "    </tr>\n",
              "  </tbody>\n",
              "</table>\n",
              "</div>"
            ],
            "text/plain": [
              "Symbols          AAPL         GE         GOOG         IBM        MSFT\n",
              "Date                                                                 \n",
              "2020-04-27  69.921890  51.114677  1275.880005  110.041527  171.260376\n",
              "2020-04-28  68.788498  54.055958  1233.670044  110.347404  167.088303\n",
              "2020-04-29  71.047882  52.307083  1341.479980  112.462250  174.586197\n",
              "2020-04-30  72.546700  54.055958  1348.660034  109.726929  176.337677\n",
              "2020-05-01  71.378754  51.671135  1320.609985  106.502243  171.772034"
            ]
          },
          "metadata": {},
          "execution_count": 35
        }
      ]
    },
    {
      "cell_type": "code",
      "metadata": {
        "colab": {
          "base_uri": "https://localhost:8080/",
          "height": 237
        },
        "id": "icKWuJilIsYC",
        "outputId": "42b18f66-5693-4530-9c25-e5883b0af386"
      },
      "source": [
        "# correlation plot\n",
        "correlation = df.pct_change()\n",
        "corr = correlation.corr()\n",
        "corr"
      ],
      "execution_count": null,
      "outputs": [
        {
          "output_type": "execute_result",
          "data": {
            "text/html": [
              "<div>\n",
              "<style scoped>\n",
              "    .dataframe tbody tr th:only-of-type {\n",
              "        vertical-align: middle;\n",
              "    }\n",
              "\n",
              "    .dataframe tbody tr th {\n",
              "        vertical-align: top;\n",
              "    }\n",
              "\n",
              "    .dataframe thead th {\n",
              "        text-align: right;\n",
              "    }\n",
              "</style>\n",
              "<table border=\"1\" class=\"dataframe\">\n",
              "  <thead>\n",
              "    <tr style=\"text-align: right;\">\n",
              "      <th>Symbols</th>\n",
              "      <th>AAPL</th>\n",
              "      <th>GE</th>\n",
              "      <th>GOOG</th>\n",
              "      <th>IBM</th>\n",
              "      <th>MSFT</th>\n",
              "    </tr>\n",
              "    <tr>\n",
              "      <th>Symbols</th>\n",
              "      <th></th>\n",
              "      <th></th>\n",
              "      <th></th>\n",
              "      <th></th>\n",
              "      <th></th>\n",
              "    </tr>\n",
              "  </thead>\n",
              "  <tbody>\n",
              "    <tr>\n",
              "      <th>AAPL</th>\n",
              "      <td>1.000000</td>\n",
              "      <td>0.730366</td>\n",
              "      <td>0.898244</td>\n",
              "      <td>0.805050</td>\n",
              "      <td>0.933509</td>\n",
              "    </tr>\n",
              "    <tr>\n",
              "      <th>GE</th>\n",
              "      <td>0.730366</td>\n",
              "      <td>1.000000</td>\n",
              "      <td>0.677500</td>\n",
              "      <td>0.727004</td>\n",
              "      <td>0.716911</td>\n",
              "    </tr>\n",
              "    <tr>\n",
              "      <th>GOOG</th>\n",
              "      <td>0.898244</td>\n",
              "      <td>0.677500</td>\n",
              "      <td>1.000000</td>\n",
              "      <td>0.797066</td>\n",
              "      <td>0.912285</td>\n",
              "    </tr>\n",
              "    <tr>\n",
              "      <th>IBM</th>\n",
              "      <td>0.805050</td>\n",
              "      <td>0.727004</td>\n",
              "      <td>0.797066</td>\n",
              "      <td>1.000000</td>\n",
              "      <td>0.798018</td>\n",
              "    </tr>\n",
              "    <tr>\n",
              "      <th>MSFT</th>\n",
              "      <td>0.933509</td>\n",
              "      <td>0.716911</td>\n",
              "      <td>0.912285</td>\n",
              "      <td>0.798018</td>\n",
              "      <td>1.000000</td>\n",
              "    </tr>\n",
              "  </tbody>\n",
              "</table>\n",
              "</div>"
            ],
            "text/plain": [
              "Symbols      AAPL        GE      GOOG       IBM      MSFT\n",
              "Symbols                                                  \n",
              "AAPL     1.000000  0.730366  0.898244  0.805050  0.933509\n",
              "GE       0.730366  1.000000  0.677500  0.727004  0.716911\n",
              "GOOG     0.898244  0.677500  1.000000  0.797066  0.912285\n",
              "IBM      0.805050  0.727004  0.797066  1.000000  0.798018\n",
              "MSFT     0.933509  0.716911  0.912285  0.798018  1.000000"
            ]
          },
          "metadata": {},
          "execution_count": 36
        }
      ]
    },
    {
      "cell_type": "code",
      "metadata": {
        "colab": {
          "base_uri": "https://localhost:8080/",
          "height": 463
        },
        "id": "Fr2L7kdNIvqM",
        "outputId": "40580fd1-e645-4636-d83b-5c86fa91caf2"
      },
      "source": [
        "plt.scatter(correlation.GOOG, correlation.MSFT)\n",
        "plt.xlabel('Google Returns')\n",
        "plt.ylabel('Microsoft Returns')"
      ],
      "execution_count": null,
      "outputs": [
        {
          "output_type": "execute_result",
          "data": {
            "text/plain": [
              "Text(0, 0.5, 'Microsoft Returns')"
            ]
          },
          "metadata": {},
          "execution_count": 37
        },
        {
          "output_type": "display_data",
          "data": {
            "image/png": "[encoded data removed]",
            "text/plain": [
              "<Figure size 576x504 with 1 Axes>"
            ]
          },
          "metadata": {}
        }
      ]
    },
    {
      "cell_type": "code",
      "metadata": {
        "id": "Es9X1DVvIz0f",
        "colab": {
          "base_uri": "https://localhost:8080/",
          "height": 421
        },
        "outputId": "ed7f350a-488a-487d-e660-7b4c993fa30a"
      },
      "source": [
        "plt.imshow(corr, cmap='hot', interpolation='none')\n",
        "plt.colorbar()\n",
        "plt.xticks(range(len(corr)), corr.columns)\n",
        "plt.yticks(range(len(corr)), corr.columns);"
      ],
      "execution_count": null,
      "outputs": [
        {
          "output_type": "display_data",
          "data": {
            "image/png": "[encoded data removed]",
            "text/plain": [
              "<Figure size 576x504 with 2 Axes>"
            ]
          },
          "metadata": {}
        }
      ]
    },
    {
      "cell_type": "code",
      "metadata": {
        "id": "FgeJuI-MI2n7",
        "colab": {
          "base_uri": "https://localhost:8080/",
          "height": 445
        },
        "outputId": "7f965ec1-8686-40eb-d4f5-84c0c78d81ed"
      },
      "source": [
        "plt.scatter(correlation.mean(), correlation.std())\n",
        "plt.xlabel('Expected returns')\n",
        "plt.ylabel('Risk')\n",
        "for label, x, y in zip(correlation.columns, correlation.mean(), correlation.std()):\n",
        "    plt.annotate(\n",
        "        label, \n",
        "        xy = (x, y), xytext = (20, -20),\n",
        "        textcoords = 'offset points', ha = 'right', va = 'bottom',\n",
        "        bbox = dict(boxstyle = 'round,pad=0.5', fc = 'yellow', alpha = 0.5),\n",
        "        arrowprops = dict(arrowstyle = '->', connectionstyle = 'arc3,rad=0'))"
      ],
      "execution_count": null,
      "outputs": [
        {
          "output_type": "display_data",
          "data": {
            "image/png": "[encoded data removed]",
            "text/plain": [
              "<Figure size 576x504 with 1 Axes>"
            ]
          },
          "metadata": {}
        }
      ]
    },
    {
      "cell_type": "code",
      "metadata": {
        "id": "IDMkPUXVfeCK",
        "colab": {
          "base_uri": "https://localhost:8080/",
          "height": 324
        },
        "outputId": "6779c21b-33f0-4088-d14f-00be6b3118be"
      },
      "source": [
        "# setting the timeframe for our data gathering\n",
        "past = datetime.datetime(2020, 11, 1)\n",
        "present = datetime.datetime(2021, 11, 19)\n",
        "\n",
        "# Yahoo API google finance data\n",
        "google = data.DataReader(\"GOOG\", 'yahoo', start=past, end=present)\n",
        "google.tail()"
      ],
      "execution_count": null,
      "outputs": [
        {
          "output_type": "execute_result",
          "data": {
            "text/html": [
              "<div>\n",
              "<style scoped>\n",
              "    .dataframe tbody tr th:only-of-type {\n",
              "        vertical-align: middle;\n",
              "    }\n",
              "\n",
              "    .dataframe tbody tr th {\n",
              "        vertical-align: top;\n",
              "    }\n",
              "\n",
              "    .dataframe thead th {\n",
              "        text-align: right;\n",
              "    }\n",
              "</style>\n",
              "<table border=\"1\" class=\"dataframe\">\n",
              "  <thead>\n",
              "    <tr style=\"text-align: right;\">\n",
              "      <th></th>\n",
              "      <th>High</th>\n",
              "      <th>Low</th>\n",
              "      <th>Open</th>\n",
              "      <th>Close</th>\n",
              "      <th>Volume</th>\n",
              "      <th>Adj Close</th>\n",
              "    </tr>\n",
              "    <tr>\n",
              "      <th>Date</th>\n",
              "      <th></th>\n",
              "      <th></th>\n",
              "      <th></th>\n",
              "      <th></th>\n",
              "      <th></th>\n",
              "      <th></th>\n",
              "    </tr>\n",
              "  </thead>\n",
              "  <tbody>\n",
              "    <tr>\n",
              "      <th>2021-11-15</th>\n",
              "      <td>3009.540039</td>\n",
              "      <td>2973.050049</td>\n",
              "      <td>3000.000000</td>\n",
              "      <td>2987.760010</td>\n",
              "      <td>812400</td>\n",
              "      <td>2987.760010</td>\n",
              "    </tr>\n",
              "    <tr>\n",
              "      <th>2021-11-16</th>\n",
              "      <td>2996.649902</td>\n",
              "      <td>2967.000000</td>\n",
              "      <td>2983.409912</td>\n",
              "      <td>2981.520020</td>\n",
              "      <td>862700</td>\n",
              "      <td>2981.520020</td>\n",
              "    </tr>\n",
              "    <tr>\n",
              "      <th>2021-11-17</th>\n",
              "      <td>2992.520020</td>\n",
              "      <td>2971.260010</td>\n",
              "      <td>2984.580078</td>\n",
              "      <td>2981.239990</td>\n",
              "      <td>764500</td>\n",
              "      <td>2981.239990</td>\n",
              "    </tr>\n",
              "    <tr>\n",
              "      <th>2021-11-18</th>\n",
              "      <td>3032.199951</td>\n",
              "      <td>2979.969971</td>\n",
              "      <td>2982.919922</td>\n",
              "      <td>3014.179932</td>\n",
              "      <td>1332900</td>\n",
              "      <td>3014.179932</td>\n",
              "    </tr>\n",
              "    <tr>\n",
              "      <th>2021-11-19</th>\n",
              "      <td>3037.000000</td>\n",
              "      <td>2997.750000</td>\n",
              "      <td>3020.000000</td>\n",
              "      <td>2999.050049</td>\n",
              "      <td>988300</td>\n",
              "      <td>2999.050049</td>\n",
              "    </tr>\n",
              "  </tbody>\n",
              "</table>\n",
              "</div>"
            ],
            "text/plain": [
              "                   High          Low  ...   Volume    Adj Close\n",
              "Date                                  ...                      \n",
              "2021-11-15  3009.540039  2973.050049  ...   812400  2987.760010\n",
              "2021-11-16  2996.649902  2967.000000  ...   862700  2981.520020\n",
              "2021-11-17  2992.520020  2971.260010  ...   764500  2981.239990\n",
              "2021-11-18  3032.199951  2979.969971  ...  1332900  3014.179932\n",
              "2021-11-19  3037.000000  2997.750000  ...   988300  2999.050049\n",
              "\n",
              "[5 rows x 6 columns]"
            ]
          },
          "metadata": {},
          "execution_count": 40
        }
      ]
    },
    {
      "cell_type": "code",
      "metadata": {
        "id": "8novK7cTA1Nw"
      },
      "source": [
        "# moving average mean of closing data for past 6 months\n",
        "googleClose = google['Adj Close']\n",
        "#vgMean = googleClose.rolling(window=180).mean()"
      ],
      "execution_count": null,
      "outputs": []
    },
    {
      "cell_type": "code",
      "metadata": {
        "colab": {
          "base_uri": "https://localhost:8080/",
          "height": 445
        },
        "id": "V4mV-MD1BBON",
        "outputId": "379daaac-1b19-4e70-bffc-65a71eced177"
      },
      "source": [
        "# matplotlib plot of Google data\n",
        "mpl.rc('figure', figsize=(8, 7))\n",
        "mpl.__version__\n",
        "\n",
        "\n",
        "style.use('ggplot')\n",
        "googleClose.plot(label='GOOG')\n",
        "#avgMean.plot(label='avgMean')\n",
        "plt.legend()"
      ],
      "execution_count": null,
      "outputs": [
        {
          "output_type": "execute_result",
          "data": {
            "text/plain": [
              "<matplotlib.legend.Legend at 0x7fd70a863c50>"
            ]
          },
          "metadata": {},
          "execution_count": 42
        },
        {
          "output_type": "display_data",
          "data": {
            "image/png": "[encoded data removed]",
            "text/plain": [
              "<Figure size 576x504 with 1 Axes>"
            ]
          },
          "metadata": {}
        }
      ]
    },
    {
      "cell_type": "code",
      "metadata": {
        "colab": {
          "base_uri": "https://localhost:8080/",
          "height": 445
        },
        "id": "JUj5uZSeBFDa",
        "outputId": "7a1573f5-3a6a-4646-f330-dce755bdaac6"
      },
      "source": [
        "# returns\n",
        "returns = googleClose / googleClose.shift(1) - 1\n",
        "returns.plot(label='return')"
      ],
      "execution_count": null,
      "outputs": [
        {
          "output_type": "execute_result",
          "data": {
            "text/plain": [
              "<matplotlib.axes._subplots.AxesSubplot at 0x7fd708508f90>"
            ]
          },
          "metadata": {},
          "execution_count": 43
        },
        {
          "output_type": "display_data",
          "data": {
            "image/png": "[encoded data removed]",
            "text/plain": [
              "<Figure size 576x504 with 1 Axes>"
            ]
          },
          "metadata": {}
        }
      ]
    },
    {
      "cell_type": "code",
      "metadata": {
        "colab": {
          "base_uri": "https://localhost:8080/",
          "height": 289
        },
        "id": "wOzFfC3dBmwm",
        "outputId": "2ac99681-226a-4758-9d42-57dc5ebe8d99"
      },
      "source": [
        "df = data.DataReader(['AAPL', 'GE', 'GOOG', 'IBM', 'MSFT'],'yahoo',start=past,end=present)\n",
        "df.tail()"
      ],
      "execution_count": null,
      "outputs": [
        {
          "output_type": "execute_result",
          "data": {
            "text/html": [
              "<div>\n",
              "<style scoped>\n",
              "    .dataframe tbody tr th:only-of-type {\n",
              "        vertical-align: middle;\n",
              "    }\n",
              "\n",
              "    .dataframe tbody tr th {\n",
              "        vertical-align: top;\n",
              "    }\n",
              "\n",
              "    .dataframe thead tr th {\n",
              "        text-align: left;\n",
              "    }\n",
              "\n",
              "    .dataframe thead tr:last-of-type th {\n",
              "        text-align: right;\n",
              "    }\n",
              "</style>\n",
              "<table border=\"1\" class=\"dataframe\">\n",
              "  <thead>\n",
              "    <tr>\n",
              "      <th>Attributes</th>\n",
              "      <th colspan=\"5\" halign=\"left\">Adj Close</th>\n",
              "      <th colspan=\"5\" halign=\"left\">Close</th>\n",
              "      <th colspan=\"5\" halign=\"left\">High</th>\n",
              "      <th colspan=\"5\" halign=\"left\">Low</th>\n",
              "      <th colspan=\"5\" halign=\"left\">Open</th>\n",
              "      <th colspan=\"5\" halign=\"left\">Volume</th>\n",
              "    </tr>\n",
              "    <tr>\n",
              "      <th>Symbols</th>\n",
              "      <th>AAPL</th>\n",
              "      <th>GE</th>\n",
              "      <th>GOOG</th>\n",
              "      <th>IBM</th>\n",
              "      <th>MSFT</th>\n",
              "      <th>AAPL</th>\n",
              "      <th>GE</th>\n",
              "      <th>GOOG</th>\n",
              "      <th>IBM</th>\n",
              "      <th>MSFT</th>\n",
              "      <th>AAPL</th>\n",
              "      <th>GE</th>\n",
              "      <th>GOOG</th>\n",
              "      <th>IBM</th>\n",
              "      <th>MSFT</th>\n",
              "      <th>AAPL</th>\n",
              "      <th>GE</th>\n",
              "      <th>GOOG</th>\n",
              "      <th>IBM</th>\n",
              "      <th>MSFT</th>\n",
              "      <th>AAPL</th>\n",
              "      <th>GE</th>\n",
              "      <th>GOOG</th>\n",
              "      <th>IBM</th>\n",
              "      <th>MSFT</th>\n",
              "      <th>AAPL</th>\n",
              "      <th>GE</th>\n",
              "      <th>GOOG</th>\n",
              "      <th>IBM</th>\n",
              "      <th>MSFT</th>\n",
              "    </tr>\n",
              "    <tr>\n",
              "      <th>Date</th>\n",
              "      <th></th>\n",
              "      <th></th>\n",
              "      <th></th>\n",
              "      <th></th>\n",
              "      <th></th>\n",
              "      <th></th>\n",
              "      <th></th>\n",
              "      <th></th>\n",
              "      <th></th>\n",
              "      <th></th>\n",
              "      <th></th>\n",
              "      <th></th>\n",
              "      <th></th>\n",
              "      <th></th>\n",
              "      <th></th>\n",
              "      <th></th>\n",
              "      <th></th>\n",
              "      <th></th>\n",
              "      <th></th>\n",
              "      <th></th>\n",
              "      <th></th>\n",
              "      <th></th>\n",
              "      <th></th>\n",
              "      <th></th>\n",
              "      <th></th>\n",
              "      <th></th>\n",
              "      <th></th>\n",
              "      <th></th>\n",
              "      <th></th>\n",
              "      <th></th>\n",
              "    </tr>\n",
              "  </thead>\n",
              "  <tbody>\n",
              "    <tr>\n",
              "      <th>2021-11-15</th>\n",
              "      <td>150.000000</td>\n",
              "      <td>106.669998</td>\n",
              "      <td>2987.760010</td>\n",
              "      <td>118.870003</td>\n",
              "      <td>335.456299</td>\n",
              "      <td>150.000000</td>\n",
              "      <td>106.669998</td>\n",
              "      <td>2987.760010</td>\n",
              "      <td>118.870003</td>\n",
              "      <td>336.070007</td>\n",
              "      <td>151.880005</td>\n",
              "      <td>108.669998</td>\n",
              "      <td>3009.540039</td>\n",
              "      <td>120.160004</td>\n",
              "      <td>337.880005</td>\n",
              "      <td>149.429993</td>\n",
              "      <td>106.199997</td>\n",
              "      <td>2973.050049</td>\n",
              "      <td>118.309998</td>\n",
              "      <td>334.029999</td>\n",
              "      <td>150.369995</td>\n",
              "      <td>108.029999</td>\n",
              "      <td>3000.000000</td>\n",
              "      <td>119.540001</td>\n",
              "      <td>337.540009</td>\n",
              "      <td>59222800.0</td>\n",
              "      <td>6124900.0</td>\n",
              "      <td>812400.0</td>\n",
              "      <td>5046300.0</td>\n",
              "      <td>16723000.0</td>\n",
              "    </tr>\n",
              "    <tr>\n",
              "      <th>2021-11-16</th>\n",
              "      <td>151.000000</td>\n",
              "      <td>103.349998</td>\n",
              "      <td>2981.520020</td>\n",
              "      <td>118.459999</td>\n",
              "      <td>338.890015</td>\n",
              "      <td>151.000000</td>\n",
              "      <td>103.349998</td>\n",
              "      <td>2981.520020</td>\n",
              "      <td>118.459999</td>\n",
              "      <td>339.510010</td>\n",
              "      <td>151.490005</td>\n",
              "      <td>106.209999</td>\n",
              "      <td>2996.649902</td>\n",
              "      <td>119.900002</td>\n",
              "      <td>340.670013</td>\n",
              "      <td>149.339996</td>\n",
              "      <td>102.820000</td>\n",
              "      <td>2967.000000</td>\n",
              "      <td>118.419998</td>\n",
              "      <td>335.510010</td>\n",
              "      <td>149.940002</td>\n",
              "      <td>106.150002</td>\n",
              "      <td>2983.409912</td>\n",
              "      <td>118.919998</td>\n",
              "      <td>335.679993</td>\n",
              "      <td>59256200.0</td>\n",
              "      <td>11997700.0</td>\n",
              "      <td>862700.0</td>\n",
              "      <td>4750800.0</td>\n",
              "      <td>20886800.0</td>\n",
              "    </tr>\n",
              "    <tr>\n",
              "      <th>2021-11-17</th>\n",
              "      <td>153.490005</td>\n",
              "      <td>101.989998</td>\n",
              "      <td>2981.239990</td>\n",
              "      <td>118.059998</td>\n",
              "      <td>339.119995</td>\n",
              "      <td>153.490005</td>\n",
              "      <td>101.989998</td>\n",
              "      <td>2981.239990</td>\n",
              "      <td>118.059998</td>\n",
              "      <td>339.119995</td>\n",
              "      <td>155.000000</td>\n",
              "      <td>103.879997</td>\n",
              "      <td>2992.520020</td>\n",
              "      <td>119.330002</td>\n",
              "      <td>342.190002</td>\n",
              "      <td>150.990005</td>\n",
              "      <td>101.419998</td>\n",
              "      <td>2971.260010</td>\n",
              "      <td>117.779999</td>\n",
              "      <td>338.000000</td>\n",
              "      <td>151.000000</td>\n",
              "      <td>103.699997</td>\n",
              "      <td>2984.580078</td>\n",
              "      <td>118.379997</td>\n",
              "      <td>338.940002</td>\n",
              "      <td>88807000.0</td>\n",
              "      <td>8307600.0</td>\n",
              "      <td>764500.0</td>\n",
              "      <td>4043300.0</td>\n",
              "      <td>19053400.0</td>\n",
              "    </tr>\n",
              "    <tr>\n",
              "      <th>2021-11-18</th>\n",
              "      <td>157.869995</td>\n",
              "      <td>100.669998</td>\n",
              "      <td>3014.179932</td>\n",
              "      <td>116.660004</td>\n",
              "      <td>341.269989</td>\n",
              "      <td>157.869995</td>\n",
              "      <td>100.669998</td>\n",
              "      <td>3014.179932</td>\n",
              "      <td>116.660004</td>\n",
              "      <td>341.269989</td>\n",
              "      <td>158.669998</td>\n",
              "      <td>101.800003</td>\n",
              "      <td>3032.199951</td>\n",
              "      <td>118.360001</td>\n",
              "      <td>342.450012</td>\n",
              "      <td>153.050003</td>\n",
              "      <td>99.180000</td>\n",
              "      <td>2979.969971</td>\n",
              "      <td>116.309998</td>\n",
              "      <td>337.119995</td>\n",
              "      <td>153.710007</td>\n",
              "      <td>101.430000</td>\n",
              "      <td>2982.919922</td>\n",
              "      <td>118.360001</td>\n",
              "      <td>338.179993</td>\n",
              "      <td>137827700.0</td>\n",
              "      <td>8530900.0</td>\n",
              "      <td>1332900.0</td>\n",
              "      <td>5046900.0</td>\n",
              "      <td>22463500.0</td>\n",
              "    </tr>\n",
              "    <tr>\n",
              "      <th>2021-11-19</th>\n",
              "      <td>160.550003</td>\n",
              "      <td>99.959999</td>\n",
              "      <td>2999.050049</td>\n",
              "      <td>116.050003</td>\n",
              "      <td>343.109985</td>\n",
              "      <td>160.550003</td>\n",
              "      <td>99.959999</td>\n",
              "      <td>2999.050049</td>\n",
              "      <td>116.050003</td>\n",
              "      <td>343.109985</td>\n",
              "      <td>161.020004</td>\n",
              "      <td>100.739998</td>\n",
              "      <td>3037.000000</td>\n",
              "      <td>116.559998</td>\n",
              "      <td>345.100006</td>\n",
              "      <td>156.529999</td>\n",
              "      <td>99.300003</td>\n",
              "      <td>2997.750000</td>\n",
              "      <td>115.269997</td>\n",
              "      <td>342.200012</td>\n",
              "      <td>157.649994</td>\n",
              "      <td>99.800003</td>\n",
              "      <td>3020.000000</td>\n",
              "      <td>116.489998</td>\n",
              "      <td>342.640015</td>\n",
              "      <td>117147500.0</td>\n",
              "      <td>6603300.0</td>\n",
              "      <td>988300.0</td>\n",
              "      <td>5380200.0</td>\n",
              "      <td>21942200.0</td>\n",
              "    </tr>\n",
              "  </tbody>\n",
              "</table>\n",
              "</div>"
            ],
            "text/plain": [
              "Attributes   Adj Close              ...     Volume            \n",
              "Symbols           AAPL          GE  ...        IBM        MSFT\n",
              "Date                                ...                       \n",
              "2021-11-15  150.000000  106.669998  ...  5046300.0  16723000.0\n",
              "2021-11-16  151.000000  103.349998  ...  4750800.0  20886800.0\n",
              "2021-11-17  153.490005  101.989998  ...  4043300.0  19053400.0\n",
              "2021-11-18  157.869995  100.669998  ...  5046900.0  22463500.0\n",
              "2021-11-19  160.550003   99.959999  ...  5380200.0  21942200.0\n",
              "\n",
              "[5 rows x 30 columns]"
            ]
          },
          "metadata": {},
          "execution_count": 44
        }
      ]
    },
    {
      "cell_type": "code",
      "metadata": {
        "colab": {
          "base_uri": "https://localhost:8080/",
          "height": 237
        },
        "id": "pXK2EBQqBvmL",
        "outputId": "213ad23b-879e-4540-de94-90cfccc0db7d"
      },
      "source": [
        "df = data.DataReader(['AAPL', 'GE', 'GOOG', 'IBM', 'MSFT'],'yahoo',\n",
        "                     start=past,end=present)['Adj Close']\n",
        "df.tail()"
      ],
      "execution_count": null,
      "outputs": [
        {
          "output_type": "execute_result",
          "data": {
            "text/html": [
              "<div>\n",
              "<style scoped>\n",
              "    .dataframe tbody tr th:only-of-type {\n",
              "        vertical-align: middle;\n",
              "    }\n",
              "\n",
              "    .dataframe tbody tr th {\n",
              "        vertical-align: top;\n",
              "    }\n",
              "\n",
              "    .dataframe thead th {\n",
              "        text-align: right;\n",
              "    }\n",
              "</style>\n",
              "<table border=\"1\" class=\"dataframe\">\n",
              "  <thead>\n",
              "    <tr style=\"text-align: right;\">\n",
              "      <th>Symbols</th>\n",
              "      <th>AAPL</th>\n",
              "      <th>GE</th>\n",
              "      <th>GOOG</th>\n",
              "      <th>IBM</th>\n",
              "      <th>MSFT</th>\n",
              "    </tr>\n",
              "    <tr>\n",
              "      <th>Date</th>\n",
              "      <th></th>\n",
              "      <th></th>\n",
              "      <th></th>\n",
              "      <th></th>\n",
              "      <th></th>\n",
              "    </tr>\n",
              "  </thead>\n",
              "  <tbody>\n",
              "    <tr>\n",
              "      <th>2021-11-15</th>\n",
              "      <td>150.000000</td>\n",
              "      <td>106.669998</td>\n",
              "      <td>2987.760010</td>\n",
              "      <td>118.870003</td>\n",
              "      <td>335.456299</td>\n",
              "    </tr>\n",
              "    <tr>\n",
              "      <th>2021-11-16</th>\n",
              "      <td>151.000000</td>\n",
              "      <td>103.349998</td>\n",
              "      <td>2981.520020</td>\n",
              "      <td>118.459999</td>\n",
              "      <td>338.890015</td>\n",
              "    </tr>\n",
              "    <tr>\n",
              "      <th>2021-11-17</th>\n",
              "      <td>153.490005</td>\n",
              "      <td>101.989998</td>\n",
              "      <td>2981.239990</td>\n",
              "      <td>118.059998</td>\n",
              "      <td>339.119995</td>\n",
              "    </tr>\n",
              "    <tr>\n",
              "      <th>2021-11-18</th>\n",
              "      <td>157.869995</td>\n",
              "      <td>100.669998</td>\n",
              "      <td>3014.179932</td>\n",
              "      <td>116.660004</td>\n",
              "      <td>341.269989</td>\n",
              "    </tr>\n",
              "    <tr>\n",
              "      <th>2021-11-19</th>\n",
              "      <td>160.550003</td>\n",
              "      <td>99.959999</td>\n",
              "      <td>2999.050049</td>\n",
              "      <td>116.050003</td>\n",
              "      <td>343.109985</td>\n",
              "    </tr>\n",
              "  </tbody>\n",
              "</table>\n",
              "</div>"
            ],
            "text/plain": [
              "Symbols           AAPL          GE         GOOG         IBM        MSFT\n",
              "Date                                                                   \n",
              "2021-11-15  150.000000  106.669998  2987.760010  118.870003  335.456299\n",
              "2021-11-16  151.000000  103.349998  2981.520020  118.459999  338.890015\n",
              "2021-11-17  153.490005  101.989998  2981.239990  118.059998  339.119995\n",
              "2021-11-18  157.869995  100.669998  3014.179932  116.660004  341.269989\n",
              "2021-11-19  160.550003   99.959999  2999.050049  116.050003  343.109985"
            ]
          },
          "metadata": {},
          "execution_count": 45
        }
      ]
    },
    {
      "cell_type": "code",
      "metadata": {
        "colab": {
          "base_uri": "https://localhost:8080/",
          "height": 237
        },
        "id": "_S_a7fTvB1lH",
        "outputId": "9050372c-c4ae-4d3d-fc32-03dc59249c1e"
      },
      "source": [
        "# correlation plot\n",
        "correlation = df.pct_change()\n",
        "corr = correlation.corr()\n",
        "corr"
      ],
      "execution_count": null,
      "outputs": [
        {
          "output_type": "execute_result",
          "data": {
            "text/html": [
              "<div>\n",
              "<style scoped>\n",
              "    .dataframe tbody tr th:only-of-type {\n",
              "        vertical-align: middle;\n",
              "    }\n",
              "\n",
              "    .dataframe tbody tr th {\n",
              "        vertical-align: top;\n",
              "    }\n",
              "\n",
              "    .dataframe thead th {\n",
              "        text-align: right;\n",
              "    }\n",
              "</style>\n",
              "<table border=\"1\" class=\"dataframe\">\n",
              "  <thead>\n",
              "    <tr style=\"text-align: right;\">\n",
              "      <th>Symbols</th>\n",
              "      <th>AAPL</th>\n",
              "      <th>GE</th>\n",
              "      <th>GOOG</th>\n",
              "      <th>IBM</th>\n",
              "      <th>MSFT</th>\n",
              "    </tr>\n",
              "    <tr>\n",
              "      <th>Symbols</th>\n",
              "      <th></th>\n",
              "      <th></th>\n",
              "      <th></th>\n",
              "      <th></th>\n",
              "      <th></th>\n",
              "    </tr>\n",
              "  </thead>\n",
              "  <tbody>\n",
              "    <tr>\n",
              "      <th>AAPL</th>\n",
              "      <td>1.000000</td>\n",
              "      <td>0.054233</td>\n",
              "      <td>0.537254</td>\n",
              "      <td>0.032301</td>\n",
              "      <td>0.657898</td>\n",
              "    </tr>\n",
              "    <tr>\n",
              "      <th>GE</th>\n",
              "      <td>0.054233</td>\n",
              "      <td>1.000000</td>\n",
              "      <td>0.018518</td>\n",
              "      <td>0.412322</td>\n",
              "      <td>-0.112048</td>\n",
              "    </tr>\n",
              "    <tr>\n",
              "      <th>GOOG</th>\n",
              "      <td>0.537254</td>\n",
              "      <td>0.018518</td>\n",
              "      <td>1.000000</td>\n",
              "      <td>0.052586</td>\n",
              "      <td>0.697746</td>\n",
              "    </tr>\n",
              "    <tr>\n",
              "      <th>IBM</th>\n",
              "      <td>0.032301</td>\n",
              "      <td>0.412322</td>\n",
              "      <td>0.052586</td>\n",
              "      <td>1.000000</td>\n",
              "      <td>-0.016125</td>\n",
              "    </tr>\n",
              "    <tr>\n",
              "      <th>MSFT</th>\n",
              "      <td>0.657898</td>\n",
              "      <td>-0.112048</td>\n",
              "      <td>0.697746</td>\n",
              "      <td>-0.016125</td>\n",
              "      <td>1.000000</td>\n",
              "    </tr>\n",
              "  </tbody>\n",
              "</table>\n",
              "</div>"
            ],
            "text/plain": [
              "Symbols      AAPL        GE      GOOG       IBM      MSFT\n",
              "Symbols                                                  \n",
              "AAPL     1.000000  0.054233  0.537254  0.032301  0.657898\n",
              "GE       0.054233  1.000000  0.018518  0.412322 -0.112048\n",
              "GOOG     0.537254  0.018518  1.000000  0.052586  0.697746\n",
              "IBM      0.032301  0.412322  0.052586  1.000000 -0.016125\n",
              "MSFT     0.657898 -0.112048  0.697746 -0.016125  1.000000"
            ]
          },
          "metadata": {},
          "execution_count": 46
        }
      ]
    },
    {
      "cell_type": "code",
      "metadata": {
        "colab": {
          "base_uri": "https://localhost:8080/",
          "height": 463
        },
        "id": "gOYbF875CCcz",
        "outputId": "07b30c80-4391-410e-8839-e9c5b6b0306e"
      },
      "source": [
        "plt.scatter(correlation.GOOG, correlation.MSFT)\n",
        "plt.xlabel('Google Returns')\n",
        "plt.ylabel('Microsoft Returns')"
      ],
      "execution_count": null,
      "outputs": [
        {
          "output_type": "execute_result",
          "data": {
            "text/plain": [
              "Text(0, 0.5, 'Microsoft Returns')"
            ]
          },
          "metadata": {},
          "execution_count": 47
        },
        {
          "output_type": "display_data",
          "data": {
            "image/png": "[encoded data removed]",
            "text/plain": [
              "<Figure size 576x504 with 1 Axes>"
            ]
          },
          "metadata": {}
        }
      ]
    },
    {
      "cell_type": "code",
      "metadata": {
        "colab": {
          "base_uri": "https://localhost:8080/",
          "height": 421
        },
        "id": "BCfDZuRMCHER",
        "outputId": "91e89593-81a4-409e-b53f-e05ac9693c3c"
      },
      "source": [
        "plt.imshow(corr, cmap='hot', interpolation='none')\n",
        "plt.colorbar()\n",
        "plt.xticks(range(len(corr)), corr.columns)\n",
        "plt.yticks(range(len(corr)), corr.columns);"
      ],
      "execution_count": null,
      "outputs": [
        {
          "output_type": "display_data",
          "data": {
            "image/png": "[encoded data removed]",
            "text/plain": [
              "<Figure size 576x504 with 2 Axes>"
            ]
          },
          "metadata": {}
        }
      ]
    },
    {
      "cell_type": "code",
      "metadata": {
        "colab": {
          "base_uri": "https://localhost:8080/",
          "height": 445
        },
        "id": "mHC8LVZECLen",
        "outputId": "7444f39c-0f5c-440d-9ffb-db6ae63a9a4c"
      },
      "source": [
        "plt.scatter(correlation.mean(), correlation.std())\n",
        "plt.xlabel('Expected returns')\n",
        "plt.ylabel('Risk')\n",
        "for label, x, y in zip(correlation.columns, correlation.mean(), correlation.std()):\n",
        "    plt.annotate(\n",
        "        label, \n",
        "        xy = (x, y), xytext = (20, -20),\n",
        "        textcoords = 'offset points', ha = 'right', va = 'bottom',\n",
        "        bbox = dict(boxstyle = 'round,pad=0.5', fc = 'yellow', alpha = 0.5),\n",
        "        arrowprops = dict(arrowstyle = '->', connectionstyle = 'arc3,rad=0'))"
      ],
      "execution_count": null,
      "outputs": [
        {
          "output_type": "display_data",
          "data": {
            "image/png": "[encoded data removed]",
            "text/plain": [
              "<Figure size 576x504 with 1 Axes>"
            ]
          },
          "metadata": {}
        }
      ]
    },
    {
      "cell_type": "code",
      "metadata": {
        "id": "FqwoGeOiXmMq"
      },
      "source": [],
      "execution_count": null,
      "outputs": []
    }
  ]
}